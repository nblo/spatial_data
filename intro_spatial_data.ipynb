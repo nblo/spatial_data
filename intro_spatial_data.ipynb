{
 "cells": [
  {
   "cell_type": "code",
   "execution_count": 1,
   "metadata": {
    "slideshow": {
     "slide_type": "skip"
    }
   },
   "outputs": [],
   "source": [
    "import pandas as pd \n",
    "import geopandas as gpd\n",
    "\n",
    "import configparser \n",
    "import sqlalchemy\n",
    "\n",
    "CONFIG = \"sample_config.cfg\"\n",
    "ENGINE = \"engine\"\n",
    "URL = \"url\"\n",
    "PORT = \"port\"\n",
    "USERNAME = \"db_username\"\n",
    "PASSWORD = \"password\"\n",
    "DBNAME = \"db_name\"\n",
    "DRIVER = \"driver\" \n",
    "FSTR_POSTGIS_CONNECT = f\"{{{ENGINE}}}://{{{USERNAME}}}:{{{PASSWORD}}}@{{{URL}}}:{{{PORT}}}/{{{DBNAME}}}\"\n",
    "config = configparser.ConfigParser()\n",
    "config.read(CONFIG)\n",
    "\n",
    "engine = sqlalchemy.create_engine(FSTR_POSTGIS_CONNECT.format(**config[\"postgis\"]), echo=False)"
   ]
  },
  {
   "cell_type": "markdown",
   "metadata": {
    "slideshow": {
     "slide_type": "slide"
    }
   },
   "source": [
    "# In 1 hour around the world of spatial data"
   ]
  },
  {
   "cell_type": "markdown",
   "metadata": {
    "slideshow": {
     "slide_type": "fragment"
    }
   },
   "source": [
    "What are we going to talk about? \n",
    "- Spatial data 101 \n",
    "- Spatial data wrangling \n",
    "- Use cases \n",
    "\n",
    "What are we **not** going to talk about? \n",
    "- GIS systems \n",
    "- Spatial data science \n",
    "- Advanced stuff (network analysis, routing) "
   ]
  },
  {
   "cell_type": "markdown",
   "metadata": {
    "slideshow": {
     "slide_type": "slide"
    },
    "tags": []
   },
   "source": [
    "# Introduction: What is spatial data? \n",
    "\n",
    "Data associated with spatial component - objects referencing position on the earth's surface. \n",
    "\n",
    "Spatial data consists of a spatial information (**where**), attributes (**what**) and sometimes temporal information (**when**)."
   ]
  },
  {
   "cell_type": "markdown",
   "metadata": {
    "slideshow": {
     "slide_type": "fragment"
    },
    "tags": []
   },
   "source": [
    "Examples: \n",
    "- satellite imagery \n",
    "- topography\n",
    "- power lines, cables, substations \n",
    "- exercise tracking (e.g. running, biking)"
   ]
  },
  {
   "cell_type": "markdown",
   "metadata": {
    "slideshow": {
     "slide_type": "slide"
    },
    "tags": []
   },
   "source": [
    "# Types of spatial data"
   ]
  },
  {
   "cell_type": "markdown",
   "metadata": {
    "slideshow": {
     "slide_type": "fragment"
    },
    "tags": []
   },
   "source": [
    "Depending on the use case geographic data can be represented in two ways: \n",
    "\n",
    "- raster data (grid)\n",
    " \n",
    "![RasterData](./imgs/raster.PNG)"
   ]
  },
  {
   "cell_type": "markdown",
   "metadata": {
    "slideshow": {
     "slide_type": "subslide"
    },
    "tags": []
   },
   "source": [
    "- vector data (point representation) \n",
    "\n",
    "![Vector Data](./imgs/vector.PNG)"
   ]
  },
  {
   "cell_type": "markdown",
   "metadata": {
    "slideshow": {
     "slide_type": "slide"
    },
    "tags": []
   },
   "source": [
    "## Raster representation"
   ]
  },
  {
   "cell_type": "markdown",
   "metadata": {
    "slideshow": {
     "slide_type": "fragment"
    }
   },
   "source": [
    "Geographic space is divided into cells. \n",
    "\n",
    "Each cell is geographically located and receives attributes or properties. \n",
    "\n",
    "Often generated from satellite or flyover sensor data.\n",
    "\n",
    "Formats: .jpg, .png, .tiff\n",
    "\n",
    "![Raster_Example](imgs/raster_example.PNG)\n"
   ]
  },
  {
   "cell_type": "markdown",
   "metadata": {
    "slideshow": {
     "slide_type": "slide"
    }
   },
   "source": [
    "## Vector representation"
   ]
  },
  {
   "cell_type": "markdown",
   "metadata": {
    "slideshow": {
     "slide_type": "fragment"
    }
   },
   "source": [
    "Points with X, Y, (Z) - coordinates which can be connected to more complex geometric types like Polygons or Lines. \n",
    "\n",
    "Examples: Shapefile (.shp), GeoJSON (.geojson), GeoPackage (.gpkg)\n",
    "\n",
    "![Vector Example](imgs/vector_example.png)\n"
   ]
  },
  {
   "cell_type": "code",
   "execution_count": 5,
   "metadata": {
    "slideshow": {
     "slide_type": "subslide"
    }
   },
   "outputs": [
    {
     "data": {
      "text/html": [
       "<div>\n",
       "<style scoped>\n",
       "    .dataframe tbody tr th:only-of-type {\n",
       "        vertical-align: middle;\n",
       "    }\n",
       "\n",
       "    .dataframe tbody tr th {\n",
       "        vertical-align: top;\n",
       "    }\n",
       "\n",
       "    .dataframe thead th {\n",
       "        text-align: right;\n",
       "    }\n",
       "</style>\n",
       "<table border=\"1\" class=\"dataframe\">\n",
       "  <thead>\n",
       "    <tr style=\"text-align: right;\">\n",
       "      <th></th>\n",
       "      <th>osm_id</th>\n",
       "      <th>category</th>\n",
       "      <th>longitude</th>\n",
       "      <th>latitude</th>\n",
       "      <th>city</th>\n",
       "      <th>geometry</th>\n",
       "    </tr>\n",
       "  </thead>\n",
       "  <tbody>\n",
       "    <tr>\n",
       "      <th>386</th>\n",
       "      <td>node/6310881189</td>\n",
       "      <td>substation</td>\n",
       "      <td>7.000345</td>\n",
       "      <td>51.388091</td>\n",
       "      <td>Essen</td>\n",
       "      <td>POINT (360865.054 5694880.986)</td>\n",
       "    </tr>\n",
       "    <tr>\n",
       "      <th>99</th>\n",
       "      <td>node/1251811580</td>\n",
       "      <td>substation</td>\n",
       "      <td>7.083524</td>\n",
       "      <td>51.445307</td>\n",
       "      <td>Essen</td>\n",
       "      <td>POINT (366818.497 5701088.737)</td>\n",
       "    </tr>\n",
       "    <tr>\n",
       "      <th>246</th>\n",
       "      <td>node/3805700299</td>\n",
       "      <td>substation</td>\n",
       "      <td>6.981876</td>\n",
       "      <td>51.456800</td>\n",
       "      <td>Essen</td>\n",
       "      <td>POINT (359790.533 5702556.398)</td>\n",
       "    </tr>\n",
       "    <tr>\n",
       "      <th>442</th>\n",
       "      <td>node/9319154501</td>\n",
       "      <td>substation</td>\n",
       "      <td>7.025626</td>\n",
       "      <td>51.450980</td>\n",
       "      <td>Essen</td>\n",
       "      <td>POINT (362812.337 5701826.395)</td>\n",
       "    </tr>\n",
       "    <tr>\n",
       "      <th>457</th>\n",
       "      <td>way/59925390</td>\n",
       "      <td>substation</td>\n",
       "      <td>6.996070</td>\n",
       "      <td>51.514257</td>\n",
       "      <td>Essen</td>\n",
       "      <td>POLYGON ((360704.497 5708993.154, 361040.214 5...</td>\n",
       "    </tr>\n",
       "    <tr>\n",
       "      <th>424</th>\n",
       "      <td>node/7880732562</td>\n",
       "      <td>substation</td>\n",
       "      <td>7.098473</td>\n",
       "      <td>51.447314</td>\n",
       "      <td>Essen</td>\n",
       "      <td>POINT (367863.063 5701284.848)</td>\n",
       "    </tr>\n",
       "    <tr>\n",
       "      <th>516</th>\n",
       "      <td>way/422075523</td>\n",
       "      <td>substation</td>\n",
       "      <td>7.014370</td>\n",
       "      <td>51.460608</td>\n",
       "      <td>Essen</td>\n",
       "      <td>POLYGON ((362054.324 5702924.205, 362063.536 5...</td>\n",
       "    </tr>\n",
       "    <tr>\n",
       "      <th>83</th>\n",
       "      <td>node/837693800</td>\n",
       "      <td>substation</td>\n",
       "      <td>7.037883</td>\n",
       "      <td>51.454251</td>\n",
       "      <td>Essen</td>\n",
       "      <td>POINT (363673.711 5702167.278)</td>\n",
       "    </tr>\n",
       "    <tr>\n",
       "      <th>389</th>\n",
       "      <td>node/6370454785</td>\n",
       "      <td>substation</td>\n",
       "      <td>7.010086</td>\n",
       "      <td>51.399231</td>\n",
       "      <td>Essen</td>\n",
       "      <td>POINT (361576.340 5696101.372)</td>\n",
       "    </tr>\n",
       "    <tr>\n",
       "      <th>343</th>\n",
       "      <td>node/4902669563</td>\n",
       "      <td>substation</td>\n",
       "      <td>6.949137</td>\n",
       "      <td>51.362595</td>\n",
       "      <td>Essen</td>\n",
       "      <td>POINT (357222.990 5692144.451)</td>\n",
       "    </tr>\n",
       "    <tr>\n",
       "      <th>468</th>\n",
       "      <td>way/106174261</td>\n",
       "      <td>substation</td>\n",
       "      <td>7.098661</td>\n",
       "      <td>51.381140</td>\n",
       "      <td>Essen</td>\n",
       "      <td>POLYGON ((367701.608 5693911.882, 367693.018 5...</td>\n",
       "    </tr>\n",
       "    <tr>\n",
       "      <th>498</th>\n",
       "      <td>way/279101404</td>\n",
       "      <td>substation</td>\n",
       "      <td>7.017126</td>\n",
       "      <td>51.468640</td>\n",
       "      <td>Essen</td>\n",
       "      <td>POLYGON ((362272.743 5703807.642, 362273.135 5...</td>\n",
       "    </tr>\n",
       "    <tr>\n",
       "      <th>413</th>\n",
       "      <td>node/6735813528</td>\n",
       "      <td>substation</td>\n",
       "      <td>7.026464</td>\n",
       "      <td>51.457021</td>\n",
       "      <td>Essen</td>\n",
       "      <td>POINT (362888.699 5702496.603)</td>\n",
       "    </tr>\n",
       "    <tr>\n",
       "      <th>81</th>\n",
       "      <td>node/837693687</td>\n",
       "      <td>substation</td>\n",
       "      <td>7.035501</td>\n",
       "      <td>51.455742</td>\n",
       "      <td>Essen</td>\n",
       "      <td>POINT (363512.646 5702337.512)</td>\n",
       "    </tr>\n",
       "    <tr>\n",
       "      <th>51</th>\n",
       "      <td>node/403374457</td>\n",
       "      <td>substation</td>\n",
       "      <td>7.049992</td>\n",
       "      <td>51.427792</td>\n",
       "      <td>Essen</td>\n",
       "      <td>POINT (364436.602 5699202.601)</td>\n",
       "    </tr>\n",
       "    <tr>\n",
       "      <th>131</th>\n",
       "      <td>node/1477549290</td>\n",
       "      <td>substation</td>\n",
       "      <td>7.007660</td>\n",
       "      <td>51.421967</td>\n",
       "      <td>Essen</td>\n",
       "      <td>POINT (361476.346 5698634.115)</td>\n",
       "    </tr>\n",
       "    <tr>\n",
       "      <th>244</th>\n",
       "      <td>node/3805691598</td>\n",
       "      <td>substation</td>\n",
       "      <td>7.009575</td>\n",
       "      <td>51.460148</td>\n",
       "      <td>Essen</td>\n",
       "      <td>POINT (361724.885 5702876.030)</td>\n",
       "    </tr>\n",
       "    <tr>\n",
       "      <th>245</th>\n",
       "      <td>node/3805700289</td>\n",
       "      <td>substation</td>\n",
       "      <td>6.983603</td>\n",
       "      <td>51.456091</td>\n",
       "      <td>Essen</td>\n",
       "      <td>POINT (359908.329 5702474.321)</td>\n",
       "    </tr>\n",
       "    <tr>\n",
       "      <th>73</th>\n",
       "      <td>node/457359210</td>\n",
       "      <td>substation</td>\n",
       "      <td>6.978090</td>\n",
       "      <td>51.464324</td>\n",
       "      <td>Essen</td>\n",
       "      <td>POINT (359550.635 5703400.312)</td>\n",
       "    </tr>\n",
       "    <tr>\n",
       "      <th>283</th>\n",
       "      <td>node/3961516376</td>\n",
       "      <td>substation</td>\n",
       "      <td>7.012440</td>\n",
       "      <td>51.460704</td>\n",
       "      <td>Essen</td>\n",
       "      <td>POINT (361925.537 5702932.484)</td>\n",
       "    </tr>\n",
       "  </tbody>\n",
       "</table>\n",
       "</div>"
      ],
      "text/plain": [
       "              osm_id    category  longitude   latitude   city  \\\n",
       "386  node/6310881189  substation   7.000345  51.388091  Essen   \n",
       "99   node/1251811580  substation   7.083524  51.445307  Essen   \n",
       "246  node/3805700299  substation   6.981876  51.456800  Essen   \n",
       "442  node/9319154501  substation   7.025626  51.450980  Essen   \n",
       "457     way/59925390  substation   6.996070  51.514257  Essen   \n",
       "424  node/7880732562  substation   7.098473  51.447314  Essen   \n",
       "516    way/422075523  substation   7.014370  51.460608  Essen   \n",
       "83    node/837693800  substation   7.037883  51.454251  Essen   \n",
       "389  node/6370454785  substation   7.010086  51.399231  Essen   \n",
       "343  node/4902669563  substation   6.949137  51.362595  Essen   \n",
       "468    way/106174261  substation   7.098661  51.381140  Essen   \n",
       "498    way/279101404  substation   7.017126  51.468640  Essen   \n",
       "413  node/6735813528  substation   7.026464  51.457021  Essen   \n",
       "81    node/837693687  substation   7.035501  51.455742  Essen   \n",
       "51    node/403374457  substation   7.049992  51.427792  Essen   \n",
       "131  node/1477549290  substation   7.007660  51.421967  Essen   \n",
       "244  node/3805691598  substation   7.009575  51.460148  Essen   \n",
       "245  node/3805700289  substation   6.983603  51.456091  Essen   \n",
       "73    node/457359210  substation   6.978090  51.464324  Essen   \n",
       "283  node/3961516376  substation   7.012440  51.460704  Essen   \n",
       "\n",
       "                                              geometry  \n",
       "386                     POINT (360865.054 5694880.986)  \n",
       "99                      POINT (366818.497 5701088.737)  \n",
       "246                     POINT (359790.533 5702556.398)  \n",
       "442                     POINT (362812.337 5701826.395)  \n",
       "457  POLYGON ((360704.497 5708993.154, 361040.214 5...  \n",
       "424                     POINT (367863.063 5701284.848)  \n",
       "516  POLYGON ((362054.324 5702924.205, 362063.536 5...  \n",
       "83                      POINT (363673.711 5702167.278)  \n",
       "389                     POINT (361576.340 5696101.372)  \n",
       "343                     POINT (357222.990 5692144.451)  \n",
       "468  POLYGON ((367701.608 5693911.882, 367693.018 5...  \n",
       "498  POLYGON ((362272.743 5703807.642, 362273.135 5...  \n",
       "413                     POINT (362888.699 5702496.603)  \n",
       "81                      POINT (363512.646 5702337.512)  \n",
       "51                      POINT (364436.602 5699202.601)  \n",
       "131                     POINT (361476.346 5698634.115)  \n",
       "244                     POINT (361724.885 5702876.030)  \n",
       "245                     POINT (359908.329 5702474.321)  \n",
       "73                      POINT (359550.635 5703400.312)  \n",
       "283                     POINT (361925.537 5702932.484)  "
      ]
     },
     "execution_count": 5,
     "metadata": {},
     "output_type": "execute_result"
    }
   ],
   "source": [
    "gdf_substations = gpd.read_file(\"data/substation.geojson\")\n",
    "gdf_substations.sample(20)"
   ]
  },
  {
   "cell_type": "markdown",
   "metadata": {
    "jp-MarkdownHeadingCollapsed": true,
    "slideshow": {
     "slide_type": "slide"
    },
    "tags": []
   },
   "source": [
    "# Geometric Data Types\n",
    "\n",
    "![Data Types](imgs/getting-started-with-postgis.jpg) \n"
   ]
  },
  {
   "cell_type": "markdown",
   "metadata": {},
   "source": [
    "[Multipolygons](https://www.openstreetmap.org/relation/89605) can consist of (combinations of) outer rings and interior rings (holes).\n",
    "\n"
   ]
  },
  {
   "cell_type": "markdown",
   "metadata": {
    "slideshow": {
     "slide_type": "subslide"
    }
   },
   "source": [
    "Multiple {Points,LineStrings,Polygons} can be collected together in\n",
    "Multi{Points,LineStrings,Polygons}\n",
    "\n",
    "Even Heterogeneous collections are possible\n",
    "`GEOMETRYCOLLECTION()`\n",
    "\n",
    "Note: Geometry Columns can be of a specific type\n",
    "or of type `GEOMETRY` with heterogeneous\n",
    "geometries"
   ]
  },
  {
   "cell_type": "markdown",
   "metadata": {
    "slideshow": {
     "slide_type": "slide"
    }
   },
   "source": [
    "# Projections and coordinate reference systems"
   ]
  },
  {
   "cell_type": "markdown",
   "metadata": {
    "slideshow": {
     "slide_type": "subslide"
    }
   },
   "source": [
    "## Coordinate and Spatial Reference System\n",
    "\n",
    "The earth is a .... ? \n",
    "\n",
    "<img src=\"imgs/geoid.png\" alt=\"Projections\" width=\"400\"/>"
   ]
  },
  {
   "cell_type": "markdown",
   "metadata": {
    "slideshow": {
     "slide_type": "subslide"
    }
   },
   "source": [
    "## Projections \n",
    "**Problem**: Sphere cannot be projected to a 2D-surface without some kind of distortion\n",
    "\n",
    "<img src=\"imgs/spatial_projections.png\" alt=\"Projections\" width=\"500\"/>"
   ]
  },
  {
   "cell_type": "markdown",
   "metadata": {
    "slideshow": {
     "slide_type": "subslide"
    }
   },
   "source": [
    "Coordinate reference system (CRS) = elipsoid + coordinate system (e.g. units)\n",
    "\n",
    "Spatial reference system (SRS) = CRS + projection \n",
    "\n",
    "CRS are referenced by unique **EPSG-Codes** \n",
    "    "
   ]
  },
  {
   "cell_type": "markdown",
   "metadata": {
    "slideshow": {
     "slide_type": "subslide"
    }
   },
   "source": [
    "Most common coordinate Reference Systems: \n",
    "- [World Geodetic System 1984, EPSG:4326](https://epsg.io/4326)\n",
    "- [Gauß-Krüger, EPSG:31467](https://epsg.io/31467)\n",
    "- [Universal Transverse Mercator (UTM), EPSG:25832](https://epsg.io/25832)  \n",
    "- [Lambert Projection, EPSG:3035](https://epsg.io/3035)\n",
    "    "
   ]
  },
  {
   "cell_type": "markdown",
   "metadata": {
    "slideshow": {
     "slide_type": "subslide"
    }
   },
   "source": [
    "Competing qualitative properties: \n",
    " - Measurement (equidistant and/or equal area)\n",
    " - Shape (angular conformity)\n",
    " - Direction (Is north really north?, Is a straight line the shortest distance between two point?)\n",
    " - Range of area supported (only locally applicable?)\n",
    " "
   ]
  },
  {
   "cell_type": "markdown",
   "metadata": {
    "slideshow": {
     "slide_type": "subslide"
    }
   },
   "source": [
    "![Mercator size disparity](imgs/mercator-vs-true-world-map-true-coutry-size.gif)"
   ]
  },
  {
   "cell_type": "markdown",
   "metadata": {
    "slideshow": {
     "slide_type": "subslide"
    }
   },
   "source": [
    "<img src=\"https://upload.wikimedia.org/wikipedia/commons/a/ac/World-airline-routemap-2009.png\" alt=\"Projections\" width=\"800\"/>"
   ]
  },
  {
   "cell_type": "markdown",
   "metadata": {
    "slideshow": {
     "slide_type": "subslide"
    }
   },
   "source": [
    "**Cartesian Coordinate** Reference Systems: \n",
    "\n",
    "Advantages: \n",
    "- meaningful values for distances, areas and volumes\n",
    "- more efficient distance computation\n",
    "\n",
    "Disadvantages: \n",
    "- only work for a supported area "
   ]
  },
  {
   "cell_type": "markdown",
   "metadata": {
    "slideshow": {
     "slide_type": "slide"
    }
   },
   "source": [
    "# Spatial data wrangling"
   ]
  },
  {
   "cell_type": "markdown",
   "metadata": {
    "slideshow": {
     "slide_type": "subslide"
    }
   },
   "source": [
    "## [Geopandas](https://geopandas.org/en/stable/docs/user_guide/io.html])\n",
    " \n",
    "<img src=\"imgs//geopandas_logo.png\" alt=\"Projections\" width=\"400\"/>\n",
    "\n",
    "\n",
    "Extension of Pandas for geometric data: \n",
    "- geometric datatypes\n",
    "- spatial indexing/ spatial joins\n",
    "- geometric functions"
   ]
  },
  {
   "cell_type": "code",
   "execution_count": 7,
   "metadata": {
    "slideshow": {
     "slide_type": "subslide"
    }
   },
   "outputs": [],
   "source": [
    "gdf_substations = gpd.read_file(\"./data/substation.geojson\")"
   ]
  },
  {
   "cell_type": "code",
   "execution_count": 8,
   "metadata": {
    "slideshow": {
     "slide_type": "fragment"
    }
   },
   "outputs": [
    {
     "data": {
      "text/html": [
       "<div>\n",
       "<style scoped>\n",
       "    .dataframe tbody tr th:only-of-type {\n",
       "        vertical-align: middle;\n",
       "    }\n",
       "\n",
       "    .dataframe tbody tr th {\n",
       "        vertical-align: top;\n",
       "    }\n",
       "\n",
       "    .dataframe thead th {\n",
       "        text-align: right;\n",
       "    }\n",
       "</style>\n",
       "<table border=\"1\" class=\"dataframe\">\n",
       "  <thead>\n",
       "    <tr style=\"text-align: right;\">\n",
       "      <th></th>\n",
       "      <th>osm_id</th>\n",
       "      <th>category</th>\n",
       "      <th>longitude</th>\n",
       "      <th>latitude</th>\n",
       "      <th>city</th>\n",
       "      <th>geometry</th>\n",
       "    </tr>\n",
       "  </thead>\n",
       "  <tbody>\n",
       "    <tr>\n",
       "      <th>0</th>\n",
       "      <td>node/305990337</td>\n",
       "      <td>substation</td>\n",
       "      <td>6.976786</td>\n",
       "      <td>51.461987</td>\n",
       "      <td>Essen</td>\n",
       "      <td>POINT (359452.903 5703142.979)</td>\n",
       "    </tr>\n",
       "    <tr>\n",
       "      <th>1</th>\n",
       "      <td>node/305990706</td>\n",
       "      <td>substation</td>\n",
       "      <td>6.980712</td>\n",
       "      <td>51.460037</td>\n",
       "      <td>Essen</td>\n",
       "      <td>POINT (359719.633 5702918.616)</td>\n",
       "    </tr>\n",
       "    <tr>\n",
       "      <th>2</th>\n",
       "      <td>node/305997283</td>\n",
       "      <td>substation</td>\n",
       "      <td>6.975856</td>\n",
       "      <td>51.459681</td>\n",
       "      <td>Essen</td>\n",
       "      <td>POINT (359381.216 5702888.333)</td>\n",
       "    </tr>\n",
       "    <tr>\n",
       "      <th>3</th>\n",
       "      <td>node/305997300</td>\n",
       "      <td>substation</td>\n",
       "      <td>6.976803</td>\n",
       "      <td>51.461247</td>\n",
       "      <td>Essen</td>\n",
       "      <td>POINT (359451.825 5703060.693)</td>\n",
       "    </tr>\n",
       "    <tr>\n",
       "      <th>4</th>\n",
       "      <td>node/308525558</td>\n",
       "      <td>substation</td>\n",
       "      <td>7.044511</td>\n",
       "      <td>51.433544</td>\n",
       "      <td>Essen</td>\n",
       "      <td>POINT (364072.695 5699852.410)</td>\n",
       "    </tr>\n",
       "  </tbody>\n",
       "</table>\n",
       "</div>"
      ],
      "text/plain": [
       "           osm_id    category  longitude   latitude   city  \\\n",
       "0  node/305990337  substation   6.976786  51.461987  Essen   \n",
       "1  node/305990706  substation   6.980712  51.460037  Essen   \n",
       "2  node/305997283  substation   6.975856  51.459681  Essen   \n",
       "3  node/305997300  substation   6.976803  51.461247  Essen   \n",
       "4  node/308525558  substation   7.044511  51.433544  Essen   \n",
       "\n",
       "                         geometry  \n",
       "0  POINT (359452.903 5703142.979)  \n",
       "1  POINT (359719.633 5702918.616)  \n",
       "2  POINT (359381.216 5702888.333)  \n",
       "3  POINT (359451.825 5703060.693)  \n",
       "4  POINT (364072.695 5699852.410)  "
      ]
     },
     "execution_count": 8,
     "metadata": {},
     "output_type": "execute_result"
    }
   ],
   "source": [
    "gdf_substations.head()"
   ]
  },
  {
   "cell_type": "code",
   "execution_count": 9,
   "metadata": {
    "slideshow": {
     "slide_type": "subslide"
    }
   },
   "outputs": [
    {
     "data": {
      "text/plain": [
       "<Projected CRS: EPSG:25832>\n",
       "Name: ETRS89 / UTM zone 32N\n",
       "Axis Info [cartesian]:\n",
       "- E[east]: Easting (metre)\n",
       "- N[north]: Northing (metre)\n",
       "Area of Use:\n",
       "- name: Europe - 6°E to 12°E and ETRS89 by country\n",
       "- bounds: (6.0, 38.76, 12.0, 83.92)\n",
       "Coordinate Operation:\n",
       "- name: UTM zone 32N\n",
       "- method: Transverse Mercator\n",
       "Datum: European Terrestrial Reference System 1989\n",
       "- Ellipsoid: GRS 1980\n",
       "- Prime Meridian: Greenwich"
      ]
     },
     "execution_count": 9,
     "metadata": {},
     "output_type": "execute_result"
    }
   ],
   "source": [
    "gdf_substations.crs"
   ]
  },
  {
   "cell_type": "code",
   "execution_count": 10,
   "metadata": {
    "slideshow": {
     "slide_type": "subslide"
    }
   },
   "outputs": [
    {
     "data": {
      "text/html": [
       "<div>\n",
       "<style scoped>\n",
       "    .dataframe tbody tr th:only-of-type {\n",
       "        vertical-align: middle;\n",
       "    }\n",
       "\n",
       "    .dataframe tbody tr th {\n",
       "        vertical-align: top;\n",
       "    }\n",
       "\n",
       "    .dataframe thead th {\n",
       "        text-align: right;\n",
       "    }\n",
       "</style>\n",
       "<table border=\"1\" class=\"dataframe\">\n",
       "  <thead>\n",
       "    <tr style=\"text-align: right;\">\n",
       "      <th></th>\n",
       "      <th>osm_id</th>\n",
       "      <th>category</th>\n",
       "      <th>longitude</th>\n",
       "      <th>latitude</th>\n",
       "      <th>city</th>\n",
       "      <th>geometry</th>\n",
       "    </tr>\n",
       "  </thead>\n",
       "  <tbody>\n",
       "    <tr>\n",
       "      <th>0</th>\n",
       "      <td>node/305990337</td>\n",
       "      <td>substation</td>\n",
       "      <td>6.976786</td>\n",
       "      <td>51.461987</td>\n",
       "      <td>Essen</td>\n",
       "      <td>POINT (6.97679 51.46199)</td>\n",
       "    </tr>\n",
       "    <tr>\n",
       "      <th>1</th>\n",
       "      <td>node/305990706</td>\n",
       "      <td>substation</td>\n",
       "      <td>6.980712</td>\n",
       "      <td>51.460037</td>\n",
       "      <td>Essen</td>\n",
       "      <td>POINT (6.98071 51.46004)</td>\n",
       "    </tr>\n",
       "    <tr>\n",
       "      <th>2</th>\n",
       "      <td>node/305997283</td>\n",
       "      <td>substation</td>\n",
       "      <td>6.975856</td>\n",
       "      <td>51.459681</td>\n",
       "      <td>Essen</td>\n",
       "      <td>POINT (6.97586 51.45968)</td>\n",
       "    </tr>\n",
       "    <tr>\n",
       "      <th>3</th>\n",
       "      <td>node/305997300</td>\n",
       "      <td>substation</td>\n",
       "      <td>6.976803</td>\n",
       "      <td>51.461247</td>\n",
       "      <td>Essen</td>\n",
       "      <td>POINT (6.97680 51.46125)</td>\n",
       "    </tr>\n",
       "    <tr>\n",
       "      <th>4</th>\n",
       "      <td>node/308525558</td>\n",
       "      <td>substation</td>\n",
       "      <td>7.044511</td>\n",
       "      <td>51.433544</td>\n",
       "      <td>Essen</td>\n",
       "      <td>POINT (7.04451 51.43354)</td>\n",
       "    </tr>\n",
       "    <tr>\n",
       "      <th>...</th>\n",
       "      <td>...</td>\n",
       "      <td>...</td>\n",
       "      <td>...</td>\n",
       "      <td>...</td>\n",
       "      <td>...</td>\n",
       "      <td>...</td>\n",
       "    </tr>\n",
       "    <tr>\n",
       "      <th>533</th>\n",
       "      <td>way/857128804</td>\n",
       "      <td>substation</td>\n",
       "      <td>6.988020</td>\n",
       "      <td>51.514559</td>\n",
       "      <td>Essen</td>\n",
       "      <td>POLYGON ((6.98816 51.51487, 6.98840 51.51478, ...</td>\n",
       "    </tr>\n",
       "    <tr>\n",
       "      <th>534</th>\n",
       "      <td>way/891363605</td>\n",
       "      <td>substation</td>\n",
       "      <td>7.065062</td>\n",
       "      <td>51.410293</td>\n",
       "      <td>Essen</td>\n",
       "      <td>POLYGON ((7.06508 51.41027, 7.06503 51.41028, ...</td>\n",
       "    </tr>\n",
       "    <tr>\n",
       "      <th>535</th>\n",
       "      <td>way/917572339</td>\n",
       "      <td>substation</td>\n",
       "      <td>7.126413</td>\n",
       "      <td>51.446264</td>\n",
       "      <td>Essen</td>\n",
       "      <td>POLYGON ((7.12753 51.44697, 7.12787 51.44663, ...</td>\n",
       "    </tr>\n",
       "    <tr>\n",
       "      <th>536</th>\n",
       "      <td>way/962292346</td>\n",
       "      <td>substation</td>\n",
       "      <td>7.086280</td>\n",
       "      <td>51.476096</td>\n",
       "      <td>Essen</td>\n",
       "      <td>POLYGON ((7.08626 51.47606, 7.08625 51.47612, ...</td>\n",
       "    </tr>\n",
       "    <tr>\n",
       "      <th>537</th>\n",
       "      <td>way/967510728</td>\n",
       "      <td>substation</td>\n",
       "      <td>6.926151</td>\n",
       "      <td>51.458632</td>\n",
       "      <td>Essen</td>\n",
       "      <td>POLYGON ((6.92615 51.45861, 6.92618 51.45864, ...</td>\n",
       "    </tr>\n",
       "  </tbody>\n",
       "</table>\n",
       "<p>538 rows × 6 columns</p>\n",
       "</div>"
      ],
      "text/plain": [
       "             osm_id    category  longitude   latitude   city  \\\n",
       "0    node/305990337  substation   6.976786  51.461987  Essen   \n",
       "1    node/305990706  substation   6.980712  51.460037  Essen   \n",
       "2    node/305997283  substation   6.975856  51.459681  Essen   \n",
       "3    node/305997300  substation   6.976803  51.461247  Essen   \n",
       "4    node/308525558  substation   7.044511  51.433544  Essen   \n",
       "..              ...         ...        ...        ...    ...   \n",
       "533   way/857128804  substation   6.988020  51.514559  Essen   \n",
       "534   way/891363605  substation   7.065062  51.410293  Essen   \n",
       "535   way/917572339  substation   7.126413  51.446264  Essen   \n",
       "536   way/962292346  substation   7.086280  51.476096  Essen   \n",
       "537   way/967510728  substation   6.926151  51.458632  Essen   \n",
       "\n",
       "                                              geometry  \n",
       "0                             POINT (6.97679 51.46199)  \n",
       "1                             POINT (6.98071 51.46004)  \n",
       "2                             POINT (6.97586 51.45968)  \n",
       "3                             POINT (6.97680 51.46125)  \n",
       "4                             POINT (7.04451 51.43354)  \n",
       "..                                                 ...  \n",
       "533  POLYGON ((6.98816 51.51487, 6.98840 51.51478, ...  \n",
       "534  POLYGON ((7.06508 51.41027, 7.06503 51.41028, ...  \n",
       "535  POLYGON ((7.12753 51.44697, 7.12787 51.44663, ...  \n",
       "536  POLYGON ((7.08626 51.47606, 7.08625 51.47612, ...  \n",
       "537  POLYGON ((6.92615 51.45861, 6.92618 51.45864, ...  \n",
       "\n",
       "[538 rows x 6 columns]"
      ]
     },
     "execution_count": 10,
     "metadata": {},
     "output_type": "execute_result"
    }
   ],
   "source": [
    "gdf_substations.to_crs(\"EPSG:4326\")"
   ]
  },
  {
   "cell_type": "code",
   "execution_count": 11,
   "metadata": {
    "slideshow": {
     "slide_type": "subslide"
    }
   },
   "outputs": [
    {
     "data": {
      "text/plain": [
       "<AxesSubplot:>"
      ]
     },
     "execution_count": 11,
     "metadata": {},
     "output_type": "execute_result"
    },
    {
     "data": {
      "image/png": "[encoded data removed]",
      "text/plain": [
       "<Figure size 432x432 with 1 Axes>"
      ]
     },
     "metadata": {
      "needs_background": "light"
     },
     "output_type": "display_data"
    }
   ],
   "source": [
    "gdf_substations.plot(figsize=(6, 6))"
   ]
  },
  {
   "cell_type": "markdown",
   "metadata": {
    "slideshow": {
     "slide_type": "slide"
    }
   },
   "source": [
    "## [PostGis](https://postgis.net/)\n",
    "\n",
    "<img src=\"imgs//postgis-logo.png\" alt=\"Projections\" width=\"200\"/>\n",
    "\n",
    "\n",
    "Extension of PostGres for spatial data: \n",
    "- geometric datatypes\n",
    "- spatial indexing \n",
    "- array of spatial functions `ST_<something>`"
   ]
  },
  {
   "cell_type": "markdown",
   "metadata": {
    "slideshow": {
     "slide_type": "subslide"
    }
   },
   "source": [
    "Install with SQL command\n",
    "```\n",
    "CREATE EXTENSION postgis;\n",
    "-- enable raster support (for 3+)\n",
    "CREATE EXTENSION postgis_raster;\n",
    "```"
   ]
  },
  {
   "cell_type": "markdown",
   "metadata": {
    "slideshow": {
     "slide_type": "slide"
    }
   },
   "source": [
    "## Interaction between PostGis and geopandas"
   ]
  },
  {
   "cell_type": "code",
   "execution_count": 12,
   "metadata": {
    "slideshow": {
     "slide_type": "fragment"
    }
   },
   "outputs": [
    {
     "data": {
      "text/html": [
       "<div>\n",
       "<style scoped>\n",
       "    .dataframe tbody tr th:only-of-type {\n",
       "        vertical-align: middle;\n",
       "    }\n",
       "\n",
       "    .dataframe tbody tr th {\n",
       "        vertical-align: top;\n",
       "    }\n",
       "\n",
       "    .dataframe thead th {\n",
       "        text-align: right;\n",
       "    }\n",
       "</style>\n",
       "<table border=\"1\" class=\"dataframe\">\n",
       "  <thead>\n",
       "    <tr style=\"text-align: right;\">\n",
       "      <th></th>\n",
       "      <th>osm_id</th>\n",
       "      <th>category</th>\n",
       "      <th>longitude</th>\n",
       "      <th>latitude</th>\n",
       "      <th>city</th>\n",
       "      <th>geometry</th>\n",
       "    </tr>\n",
       "  </thead>\n",
       "  <tbody>\n",
       "    <tr>\n",
       "      <th>0</th>\n",
       "      <td>node/305990337</td>\n",
       "      <td>substation</td>\n",
       "      <td>6.976786</td>\n",
       "      <td>51.461987</td>\n",
       "      <td>Essen</td>\n",
       "      <td>POINT (359452.903 5703142.979)</td>\n",
       "    </tr>\n",
       "    <tr>\n",
       "      <th>1</th>\n",
       "      <td>node/305990706</td>\n",
       "      <td>substation</td>\n",
       "      <td>6.980712</td>\n",
       "      <td>51.460037</td>\n",
       "      <td>Essen</td>\n",
       "      <td>POINT (359719.633 5702918.616)</td>\n",
       "    </tr>\n",
       "    <tr>\n",
       "      <th>2</th>\n",
       "      <td>node/305997283</td>\n",
       "      <td>substation</td>\n",
       "      <td>6.975856</td>\n",
       "      <td>51.459681</td>\n",
       "      <td>Essen</td>\n",
       "      <td>POINT (359381.216 5702888.333)</td>\n",
       "    </tr>\n",
       "    <tr>\n",
       "      <th>3</th>\n",
       "      <td>node/305997300</td>\n",
       "      <td>substation</td>\n",
       "      <td>6.976803</td>\n",
       "      <td>51.461247</td>\n",
       "      <td>Essen</td>\n",
       "      <td>POINT (359451.825 5703060.693)</td>\n",
       "    </tr>\n",
       "    <tr>\n",
       "      <th>4</th>\n",
       "      <td>node/308525558</td>\n",
       "      <td>substation</td>\n",
       "      <td>7.044511</td>\n",
       "      <td>51.433544</td>\n",
       "      <td>Essen</td>\n",
       "      <td>POINT (364072.695 5699852.410)</td>\n",
       "    </tr>\n",
       "  </tbody>\n",
       "</table>\n",
       "</div>"
      ],
      "text/plain": [
       "           osm_id    category  longitude   latitude   city  \\\n",
       "0  node/305990337  substation   6.976786  51.461987  Essen   \n",
       "1  node/305990706  substation   6.980712  51.460037  Essen   \n",
       "2  node/305997283  substation   6.975856  51.459681  Essen   \n",
       "3  node/305997300  substation   6.976803  51.461247  Essen   \n",
       "4  node/308525558  substation   7.044511  51.433544  Essen   \n",
       "\n",
       "                         geometry  \n",
       "0  POINT (359452.903 5703142.979)  \n",
       "1  POINT (359719.633 5702918.616)  \n",
       "2  POINT (359381.216 5702888.333)  \n",
       "3  POINT (359451.825 5703060.693)  \n",
       "4  POINT (364072.695 5699852.410)  "
      ]
     },
     "execution_count": 12,
     "metadata": {},
     "output_type": "execute_result"
    }
   ],
   "source": [
    "# reading from postgis \n",
    "gdf = gpd.read_postgis(con=engine, sql=\"select * from deep_dive.substation\", geom_col=\"geometry\")\n",
    "gdf.head()"
   ]
  },
  {
   "cell_type": "code",
   "execution_count": 13,
   "metadata": {
    "slideshow": {
     "slide_type": "fragment"
    }
   },
   "outputs": [],
   "source": [
    "# writing to postgis \n",
    "gdf.to_postgis(con=engine, name=\"sample_substations\", schema=\"deep_dive\", if_exists=\"replace\")"
   ]
  },
  {
   "cell_type": "markdown",
   "metadata": {
    "slideshow": {
     "slide_type": "slide"
    }
   },
   "source": [
    "## Example spatial functions"
   ]
  },
  {
   "cell_type": "markdown",
   "metadata": {
    "slideshow": {
     "slide_type": "fragment"
    }
   },
   "source": [
    "- `ST_Area(geometry g1)` \n",
    "- `ST_Translate(geometry g1, float deltax, float deltay)`\n",
    "- `ST_Rotate(geometry geomA, float rotRadians)`\n",
    "- `ST_Length(geometry g1)`\n",
    "- `ST_Distance(geometry A, geometry B)`"
   ]
  },
  {
   "cell_type": "markdown",
   "metadata": {
    "jp-MarkdownHeadingCollapsed": true,
    "slideshow": {
     "slide_type": "slide"
    },
    "tags": []
   },
   "source": [
    "## Spatial Relationships"
   ]
  },
  {
   "cell_type": "markdown",
   "metadata": {
    "slideshow": {
     "slide_type": "fragment"
    }
   },
   "source": [
    "Spatial databases have the ability to compare relationships between geometries: \n",
    "- Equality                 `ST_EQUAL(geometry A, geometry B)`\n",
    "- Intersection `ST_INTERSECTS(geometry A, geometry B)`\n",
    "- Overlaps `ST_OVERLAPS(geometry A, geometry B)`\n",
    "- Within/Contains `ST_WITHIN(geometry A, geometry B)` and `ST_CONTAINS(geometry A, geometry B)`\n",
    "- Distance queries  `ST_DWithin(geometry A, geometry B, max_distance)`"
   ]
  },
  {
   "cell_type": "markdown",
   "metadata": {
    "slideshow": {
     "slide_type": "subslide"
    }
   },
   "source": [
    "Example questions that could be answered with spatial relationship queries: \n",
    "- Which charging stations are in the vicinity of Points-of-Interest? \n",
    "- Which power lines cross highways or rivers? \n",
    "- Which buildings are inside nature reserves? \n",
    "- Append Postal Code/ Country Code/ AGS by spatial intersection"
   ]
  },
  {
   "cell_type": "markdown",
   "metadata": {
    "slideshow": {
     "slide_type": "subslide"
    }
   },
   "source": [
    "Dimensionally Extended 9-Intersection Mode \n",
    "\n",
    "[DE9IM: Even more complex Model for spatial interaction between two objects](https://postgis.net/workshops/postgis-intro/de9im.html)\n",
    "\n",
    "![DE9IM](imgs/de9im3.jpg)"
   ]
  },
  {
   "cell_type": "markdown",
   "metadata": {
    "slideshow": {
     "slide_type": "slide"
    }
   },
   "source": [
    "## Spatial Indices"
   ]
  },
  {
   "cell_type": "markdown",
   "metadata": {
    "slideshow": {
     "slide_type": "fragment"
    }
   },
   "source": [
    "Makes answering questions like \n",
    "- is X **inside of** Y \n",
    "- does X **intersect** Y \n",
    "- is X **near** Y \n",
    "\n",
    "go from 🐌 to 🚀!"
   ]
  },
  {
   "cell_type": "markdown",
   "metadata": {
    "slideshow": {
     "slide_type": "subslide"
    }
   },
   "source": [
    "On a high level spatial indices work by: \n",
    "1. representing objects by **2D-bounding boxes** (4 values regardless of geometry)\n",
    "2. making spatial comparisons between bounding boxes (**cheap!**) \n",
    "3. reserving expensive (but accurate) comparisons between **matched bounding boxes**  \n",
    "\n",
    "![Simple Example Spatial Index](imgs/bbox.png)"
   ]
  },
  {
   "cell_type": "markdown",
   "metadata": {
    "slideshow": {
     "slide_type": "subslide"
    }
   },
   "source": [
    "The most commonly used spatial index is R-Tree:\n",
    "\n",
    "![RTree](./imgs/spatial_index.png)"
   ]
  },
  {
   "cell_type": "markdown",
   "metadata": {
    "slideshow": {
     "slide_type": "subslide"
    }
   },
   "source": [
    "Syntax for creating R-Tree index on geometry column: \n",
    "\n",
    "`CREATE INDEX <name_index> ON <table_name> USING GIST (<geometry_column>);`"
   ]
  },
  {
   "cell_type": "markdown",
   "metadata": {},
   "source": [
    "Spatial relationship functions like \n",
    "- `ST_INTERSECTS`,\n",
    "- `ST_OVERLAPS`,\n",
    "- `ST_WITHIN` \n",
    "- or `ST_DWithin` \n",
    "\n",
    "leverage spatial indices for computation"
   ]
  },
  {
   "cell_type": "markdown",
   "metadata": {
    "slideshow": {
     "slide_type": "slide"
    },
    "tags": []
   },
   "source": [
    "## Spatial Joins and neighbor searches"
   ]
  },
  {
   "cell_type": "markdown",
   "metadata": {
    "slideshow": {
     "slide_type": "fragment"
    }
   },
   "source": [
    "Spatial Join is the bread-and-butter of any spatial analysis.\n",
    "\n",
    "Instead of join-keys the spatial relationships are used as join keys. "
   ]
  },
  {
   "cell_type": "markdown",
   "metadata": {
    "slideshow": {
     "slide_type": "fragment"
    }
   },
   "source": [
    "Pseudo Code Spatial Join: \n",
    "```\n",
    "SELECT\n",
    "    id_loc,\n",
    "    id_other_loc\n",
    "FROM locations\n",
    "JOIN other_locations\n",
    "WHERE ST_INTERSECTS(geom_loc, geom_other_loc)\n",
    "```"
   ]
  },
  {
   "cell_type": "markdown",
   "metadata": {
    "slideshow": {
     "slide_type": "slide"
    }
   },
   "source": [
    "### Example: Which highways cross rivers? "
   ]
  },
  {
   "cell_type": "code",
   "execution_count": 12,
   "metadata": {
    "slideshow": {
     "slide_type": "fragment"
    }
   },
   "outputs": [],
   "source": [
    "SQL = \"\"\"select \n",
    "            h.osm_id as id_highway, \n",
    "            h.geometry \n",
    "         from deep_dive.highway h\n",
    "         inner join deep_dive.waterway w\n",
    "         ON ST_INTERSECTS(h.geometry, w.geometry)\n",
    "         and h.highway in ('motorway', 'trunk', 'primary', 'secondary', 'tertiary', 'residential')\n",
    "    \"\"\"\n",
    "gdf = gpd.read_postgis(con=engine, sql=SQL, geom_col=\"geometry\")"
   ]
  },
  {
   "cell_type": "code",
   "execution_count": 13,
   "metadata": {
    "slideshow": {
     "slide_type": "subslide"
    }
   },
   "outputs": [
    {
     "data": {
      "text/html": [
       "<div>\n",
       "<style scoped>\n",
       "    .dataframe tbody tr th:only-of-type {\n",
       "        vertical-align: middle;\n",
       "    }\n",
       "\n",
       "    .dataframe tbody tr th {\n",
       "        vertical-align: top;\n",
       "    }\n",
       "\n",
       "    .dataframe thead th {\n",
       "        text-align: right;\n",
       "    }\n",
       "</style>\n",
       "<table border=\"1\" class=\"dataframe\">\n",
       "  <thead>\n",
       "    <tr style=\"text-align: right;\">\n",
       "      <th></th>\n",
       "      <th>id_highway</th>\n",
       "      <th>geometry</th>\n",
       "    </tr>\n",
       "  </thead>\n",
       "  <tbody>\n",
       "    <tr>\n",
       "      <th>0</th>\n",
       "      <td>way/24595082</td>\n",
       "      <td>LINESTRING (360766.936 5694754.658, 360780.146...</td>\n",
       "    </tr>\n",
       "    <tr>\n",
       "      <th>1</th>\n",
       "      <td>way/323541564</td>\n",
       "      <td>LINESTRING (360792.254 5694776.667, 360780.019...</td>\n",
       "    </tr>\n",
       "    <tr>\n",
       "      <th>2</th>\n",
       "      <td>way/23039501</td>\n",
       "      <td>LINESTRING (356234.508 5691929.533, 356247.504...</td>\n",
       "    </tr>\n",
       "    <tr>\n",
       "      <th>3</th>\n",
       "      <td>way/28476033</td>\n",
       "      <td>LINESTRING (355917.034 5691493.985, 355921.733...</td>\n",
       "    </tr>\n",
       "    <tr>\n",
       "      <th>4</th>\n",
       "      <td>way/28081652</td>\n",
       "      <td>LINESTRING (358015.632 5702685.405, 358028.830...</td>\n",
       "    </tr>\n",
       "  </tbody>\n",
       "</table>\n",
       "</div>"
      ],
      "text/plain": [
       "      id_highway                                           geometry\n",
       "0   way/24595082  LINESTRING (360766.936 5694754.658, 360780.146...\n",
       "1  way/323541564  LINESTRING (360792.254 5694776.667, 360780.019...\n",
       "2   way/23039501  LINESTRING (356234.508 5691929.533, 356247.504...\n",
       "3   way/28476033  LINESTRING (355917.034 5691493.985, 355921.733...\n",
       "4   way/28081652  LINESTRING (358015.632 5702685.405, 358028.830..."
      ]
     },
     "execution_count": 13,
     "metadata": {},
     "output_type": "execute_result"
    }
   ],
   "source": [
    "gdf.head()"
   ]
  },
  {
   "cell_type": "code",
   "execution_count": 14,
   "metadata": {
    "slideshow": {
     "slide_type": "subslide"
    }
   },
   "outputs": [
    {
     "data": {
      "text/plain": [
       "(157, 2)"
      ]
     },
     "execution_count": 14,
     "metadata": {},
     "output_type": "execute_result"
    }
   ],
   "source": [
    "gdf.shape"
   ]
  },
  {
   "cell_type": "markdown",
   "metadata": {
    "slideshow": {
     "slide_type": "subslide"
    }
   },
   "source": [
    "### Example: Which buildings are inside retail areas? "
   ]
  },
  {
   "cell_type": "code",
   "execution_count": 20,
   "metadata": {
    "slideshow": {
     "slide_type": "fragment"
    }
   },
   "outputs": [],
   "source": [
    "SQL = \"\"\"select \n",
    "            b.osm_id as id_building, \n",
    "            b.geometry \n",
    "         from deep_dive.building b\n",
    "         inner join deep_dive.landuse l\n",
    "         ON ST_WITHIN(b.geometry, l.geometry) and l.landuse = 'retail' \n",
    "    \"\"\"\n",
    "gdf = gpd.read_postgis(con=engine, sql=SQL, geom_col=\"geometry\")"
   ]
  },
  {
   "cell_type": "code",
   "execution_count": 21,
   "metadata": {
    "slideshow": {
     "slide_type": "fragment"
    }
   },
   "outputs": [
    {
     "data": {
      "text/html": [
       "<div>\n",
       "<style scoped>\n",
       "    .dataframe tbody tr th:only-of-type {\n",
       "        vertical-align: middle;\n",
       "    }\n",
       "\n",
       "    .dataframe tbody tr th {\n",
       "        vertical-align: top;\n",
       "    }\n",
       "\n",
       "    .dataframe thead th {\n",
       "        text-align: right;\n",
       "    }\n",
       "</style>\n",
       "<table border=\"1\" class=\"dataframe\">\n",
       "  <thead>\n",
       "    <tr style=\"text-align: right;\">\n",
       "      <th></th>\n",
       "      <th>id_building</th>\n",
       "      <th>geometry</th>\n",
       "    </tr>\n",
       "  </thead>\n",
       "  <tbody>\n",
       "    <tr>\n",
       "      <th>0</th>\n",
       "      <td>way/82459610</td>\n",
       "      <td>POLYGON ((362634.600 5698309.564, 362643.250 5...</td>\n",
       "    </tr>\n",
       "    <tr>\n",
       "      <th>1</th>\n",
       "      <td>way/82459611</td>\n",
       "      <td>POLYGON ((362625.437 5698320.916, 362622.370 5...</td>\n",
       "    </tr>\n",
       "    <tr>\n",
       "      <th>2</th>\n",
       "      <td>way/82459614</td>\n",
       "      <td>POLYGON ((362682.587 5698396.536, 362684.479 5...</td>\n",
       "    </tr>\n",
       "    <tr>\n",
       "      <th>3</th>\n",
       "      <td>way/82459617</td>\n",
       "      <td>POLYGON ((362654.779 5698300.307, 362646.772 5...</td>\n",
       "    </tr>\n",
       "    <tr>\n",
       "      <th>4</th>\n",
       "      <td>way/82459618</td>\n",
       "      <td>POLYGON ((362681.181 5698346.176, 362689.797 5...</td>\n",
       "    </tr>\n",
       "  </tbody>\n",
       "</table>\n",
       "</div>"
      ],
      "text/plain": [
       "    id_building                                           geometry\n",
       "0  way/82459610  POLYGON ((362634.600 5698309.564, 362643.250 5...\n",
       "1  way/82459611  POLYGON ((362625.437 5698320.916, 362622.370 5...\n",
       "2  way/82459614  POLYGON ((362682.587 5698396.536, 362684.479 5...\n",
       "3  way/82459617  POLYGON ((362654.779 5698300.307, 362646.772 5...\n",
       "4  way/82459618  POLYGON ((362681.181 5698346.176, 362689.797 5..."
      ]
     },
     "execution_count": 21,
     "metadata": {},
     "output_type": "execute_result"
    }
   ],
   "source": [
    "gdf.head()"
   ]
  },
  {
   "cell_type": "code",
   "execution_count": 22,
   "metadata": {
    "slideshow": {
     "slide_type": "fragment"
    }
   },
   "outputs": [
    {
     "data": {
      "text/plain": [
       "(927, 2)"
      ]
     },
     "execution_count": 22,
     "metadata": {},
     "output_type": "execute_result"
    }
   ],
   "source": [
    "gdf.shape"
   ]
  },
  {
   "cell_type": "markdown",
   "metadata": {
    "slideshow": {
     "slide_type": "slide"
    }
   },
   "source": [
    "### Which objects are near other objects? \n",
    "\n",
    "#### Naive approach: \n",
    "\n",
    "```\n",
    "SELECT\n",
    "    id_loc,\n",
    "    id_other_loc\n",
    "FROM locations, other_locations\n",
    "ORDER BY ST_Distance(geom_loc, geom_other_loc) \n",
    "LIMIT 1\n",
    "```"
   ]
  },
  {
   "cell_type": "markdown",
   "metadata": {
    "slideshow": {
     "slide_type": "subslide"
    }
   },
   "source": [
    "#### Simple Distance Query\n",
    "\n",
    "Use `ST_DWithin` Function\n",
    "\n",
    "``` \n",
    "    SELECT \n",
    "        id_loc \n",
    "    FROM locations \n",
    "    WHERE ST_DWithin(geom_loc, 'SRID=25832;POINT(595603.854 5703496.257)'::geometry, 100)\n",
    "``` "
   ]
  },
  {
   "cell_type": "markdown",
   "metadata": {
    "slideshow": {
     "slide_type": "subslide"
    }
   },
   "source": [
    "Example Query nearest neighbor: \n",
    "\n",
    "`geom_a <-> geom_b` — Returns the 2D distance between geometry A and geometry B.\n",
    "\n",
    "\n",
    "``` \n",
    "    SELECT \n",
    "        id_loc\n",
    "    FROM locations \n",
    "    ORDER BY geom_loc <-> 'SRID=25832;POINT(595603.854 5703496.257)'::geometry\n",
    "    LIMIT 1\n",
    "``` "
   ]
  },
  {
   "cell_type": "markdown",
   "metadata": {
    "slideshow": {
     "slide_type": "subslide"
    }
   },
   "source": [
    "Most common use case: Distance query between two tables containing geometries\n",
    "\n",
    "use PostGres equivalent of for each loop: `CROSS JOIN LATERAL`\n",
    "\n",
    "```\n",
    "  SELECT  \n",
    "      id_loc \n",
    "      id_other_loc\n",
    "  FROM locations\n",
    "  CROSS JOIN LATERAL ( \n",
    "          SELECT \n",
    "              id_other_loc\n",
    "           FROM other_locations \n",
    "           WHERE ST_DWITHIN(geom_loc, geom_other_loc, 100)\n",
    "    ) subq\n",
    "```\n"
   ]
  },
  {
   "cell_type": "markdown",
   "metadata": {
    "slideshow": {
     "slide_type": "slide"
    }
   },
   "source": [
    "### Neighbor Query between two tables:"
   ]
  },
  {
   "cell_type": "markdown",
   "metadata": {
    "slideshow": {
     "slide_type": "fragment"
    }
   },
   "source": [
    "```\n",
    "SELECT\n",
    "    id_loc,\n",
    "    geom_loc, \n",
    "    id_other_loc, \n",
    "    geom_other_loc, \n",
    "    --ST_Distance(geom_loc, geom_other_loc) as distance_m\n",
    "FROM locations\n",
    "CROSS JOIN LATERAL (\n",
    "    SELECT \n",
    "        id_loc, \n",
    "        geom_other_loc\n",
    "    FROM other_locations\n",
    "    WHERE ST_DWithin(geom_loc, geom_other_loc, max_distance)\n",
    ") subq\n",
    "```"
   ]
  },
  {
   "cell_type": "markdown",
   "metadata": {
    "slideshow": {
     "slide_type": "slide"
    }
   },
   "source": [
    "### Spatial Query between with distance filter:"
   ]
  },
  {
   "cell_type": "markdown",
   "metadata": {
    "slideshow": {
     "slide_type": "fragment"
    }
   },
   "source": [
    "```\n",
    "SELECT\n",
    "    id_loc,\n",
    "    geom_loc, \n",
    "    id_other_loc, \n",
    "    geom_other_loc, \n",
    "    ST_Distance(geom_loc, geom_other_loc) as distance_m\n",
    "FROM locations\n",
    "CROSS JOIN LATERAL (\n",
    "    SELECT \n",
    "        id_loc, \n",
    "        geom_other_loc\n",
    "    FROM other_locations\n",
    "    WHERE ST_DWithin(geom_loc, geom_other_loc, max_distance) --spatial index is used\n",
    ") subq\n",
    "```"
   ]
  },
  {
   "cell_type": "markdown",
   "metadata": {
    "slideshow": {
     "slide_type": "slide"
    }
   },
   "source": [
    "### Spatial Query with limiting the number of neighbors"
   ]
  },
  {
   "cell_type": "markdown",
   "metadata": {
    "slideshow": {
     "slide_type": "fragment"
    }
   },
   "source": [
    "```\n",
    "SELECT\n",
    "    id_loc,\n",
    "    geom_loc, \n",
    "    id_other_loc, \n",
    "    geom_other_loc, \n",
    "    ST_Distance(geom_loc, geom_other_loc) as distance_m\n",
    "FROM locations\n",
    "CROSS JOIN LATERAL (\n",
    "    SELECT \n",
    "        id_loc, \n",
    "        geom_other_loc\n",
    "    FROM other_locations\n",
    "    ORDER BY geom_loc <-> geom_other_loc --spatial index is used\n",
    "    LIMIT 1\n",
    ") subq\n",
    "```"
   ]
  },
  {
   "cell_type": "markdown",
   "metadata": {
    "slideshow": {
     "slide_type": "slide"
    }
   },
   "source": [
    "### Spatial Query with distance filter and limiting the number of neighbors"
   ]
  },
  {
   "cell_type": "markdown",
   "metadata": {
    "slideshow": {
     "slide_type": "fragment"
    }
   },
   "source": [
    "```\n",
    "SELECT\n",
    "    id_loc,\n",
    "    geom_loc, \n",
    "    id_other_loc, \n",
    "    geom_other_loc, \n",
    "    ST_Distance(geom_loc, geom_other_loc) as distance_m\n",
    "FROM locations\n",
    "CROSS JOIN LATERAL (\n",
    "    SELECT \n",
    "        id_loc, \n",
    "        geom_other_loc\n",
    "    FROM other_locations\n",
    "    WHERE ST_DWithin(geom_loc, geom_other_loc, max_distance) --spatial index is used\n",
    "    ORDER BY geom_loc <-> geom_other_loc --spatial index is used\n",
    "    LIMIT 1\n",
    ") subq\n",
    "```"
   ]
  },
  {
   "cell_type": "markdown",
   "metadata": {
    "slideshow": {
     "slide_type": "slide"
    }
   },
   "source": [
    "# Use cases: "
   ]
  },
  {
   "cell_type": "markdown",
   "metadata": {
    "slideshow": {
     "slide_type": "subslide"
    }
   },
   "source": [
    "## Which substations are at risk of flooding? "
   ]
  },
  {
   "cell_type": "code",
   "execution_count": 25,
   "metadata": {},
   "outputs": [],
   "source": [
    "#see distance query substation - waterway in spatial_queries.sql "
   ]
  },
  {
   "cell_type": "markdown",
   "metadata": {
    "slideshow": {
     "slide_type": "subslide"
    }
   },
   "source": [
    "## Which fire department will put the fire out at my house? "
   ]
  },
  {
   "cell_type": "code",
   "execution_count": 24,
   "metadata": {},
   "outputs": [],
   "source": [
    "#see  fire stations and buildings query in spatial_queries.sql "
   ]
  },
  {
   "cell_type": "markdown",
   "metadata": {
    "slideshow": {
     "slide_type": "subslide"
    }
   },
   "source": [
    "## Spatial clustering (Tableau and Postgis)"
   ]
  },
  {
   "cell_type": "code",
   "execution_count": 23,
   "metadata": {},
   "outputs": [],
   "source": [
    "# see example spatial clustering in spatial_queries.sql"
   ]
  },
  {
   "cell_type": "markdown",
   "metadata": {
    "slideshow": {
     "slide_type": "subslide"
    }
   },
   "source": [
    "## Where can I build my house? (WIP)"
   ]
  },
  {
   "cell_type": "markdown",
   "metadata": {
    "jp-MarkdownHeadingCollapsed": true,
    "slideshow": {
     "slide_type": "slide"
    },
    "tags": []
   },
   "source": [
    "# Spatial technology stack (Python)\n",
    "- Data Wrangling: \n",
    "    - geopandas (pandas extension for geometric data)\n",
    "    - pyproj (geographic reference systems)\n",
    "    - fiona (file I/0)\n",
    "    - rtree (spatial indexing) \n",
    "    - pygeos (spatial indexing)\n",
    "    - shapely (geometry data)\n",
    "    - scipy/scikitlean (neighbor-searches) \n",
    "    - networkx (network analysis)"
   ]
  },
  {
   "cell_type": "markdown",
   "metadata": {
    "jp-MarkdownHeadingCollapsed": true,
    "slideshow": {
     "slide_type": "subslide"
    },
    "tags": []
   },
   "source": [
    " \n",
    "- Plotting: \n",
    "    - matplotlib (+ descartes) \n",
    "    - folium (Python leaflet wrapper) \n",
    "    - altair (interactive declarative visualizations) \n",
    "    - datashader (plotting extremely large datasets) \n",
    " \n",
    " \n",
    "- Misc: \n",
    "    - osmnx, osmium (OpenStreetMap data)"
   ]
  },
  {
   "cell_type": "markdown",
   "metadata": {
    "slideshow": {
     "slide_type": "slide"
    }
   },
   "source": [
    "# References & Acknowledgements\n",
    "\n",
    "- https://github.com/martinchristen/bigdatabbq2021\n",
    "- [PostGis Feature Overview](https://www.youtube.com/watch?v=g4DgAVCmiDE)\n",
    "- [Introduction to Spatial Indexing](https://blog.crunchydata.com/blog/the-many-spatial-indexes-of-postgis)\n",
    "- [PostGiS Day 2021](https://www.youtube.com/playlist?list=PLesw5jpZchudjKjwvFks-gAbz9ZZzysFm)\n",
    "- [PostGiS in Action](https://www.manning.com/books/postgis-in-action-third-edition)\n",
    "- [Geopandas Tutorial](https://automating-gis-processes.github.io/site/notebooks/L3/spatial_index.html)\n"
   ]
  },
  {
   "cell_type": "code",
   "execution_count": null,
   "metadata": {},
   "outputs": [],
   "source": []
  }
 ],
 "metadata": {
  "kernelspec": {
   "display_name": "Python 3",
   "language": "python",
   "name": "python3"
  },
  "language_info": {
   "codemirror_mode": {
    "name": "ipython",
    "version": 3
   },
   "file_extension": ".py",
   "mimetype": "text/x-python",
   "name": "python",
   "nbconvert_exporter": "python",
   "pygments_lexer": "ipython3",
   "version": "3.8.5"
  }
 },
 "nbformat": 4,
 "nbformat_minor": 5
}
