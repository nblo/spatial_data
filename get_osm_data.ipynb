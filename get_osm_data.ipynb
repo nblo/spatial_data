{
 "cells": [
  {
   "cell_type": "code",
   "execution_count": null,
   "id": "dfe4ebfc-9208-48ce-a500-67a0ee879921",
   "metadata": {},
   "outputs": [],
   "source": [
    "import geopandas as gpd \n",
    "from geopandas import GeoDataFrame\n",
    "import pandas as pd\n",
    "import osmnx as ox \n",
    "import os \n",
    "import typing\n",
    "import glob\n"
   ]
  },
  {
   "cell_type": "code",
   "execution_count": null,
   "id": "13da1854-0545-4d89-aa08-ab662ead74dd",
   "metadata": {},
   "outputs": [],
   "source": [
    "CATEGORIES = {\"building\": {\"building\": True}, \n",
    "              \"territories\": {\"boundary\": \"administrative\", \"admin_level\": \"2\"}, \n",
    "              \"landuse\": {\"landuse\": True},\n",
    "              \"highway\": {\"highway\": True},\n",
    "              \"fire_station\": {\"amenity\": [\"fire_station\"]}, \n",
    "              \"waterway\": {\"waterway\": True}, \n",
    "              \"substation\": {\"power\": [\"substation\"]}\n",
    "}"
   ]
  },
  {
   "cell_type": "code",
   "execution_count": null,
   "id": "e4a69be4-ea7d-41f6-a3ce-7c35e4f822a0",
   "metadata": {},
   "outputs": [],
   "source": [
    "ox.config(use_cache=True, log_console=False, timeout=720)"
   ]
  },
  {
   "cell_type": "code",
   "execution_count": null,
   "id": "aeb9ddef-4955-44b8-99b2-c863e26de766",
   "metadata": {},
   "outputs": [],
   "source": [
    "def _append_poi_category(gdf_poi: GeoDataFrame,\n",
    "                         tags: typing.Dict[str, list], \n",
    "                         col_poi_id: str = \"id_poi\"\n",
    "                         ) -> GeoDataFrame: \n",
    "    \"\"\"Append poi category from tag search to POI locations\n",
    "    Args:\n",
    "        gdf_poi (GeoDataFrame): POI locations\n",
    "        tags (typing.Dict[str, list]): mapping containing osm key as key and list of osm values as value\n",
    "        col_poi_id (str, optional): name of column uniquely identifying each POI. Defaults to \"id_poi\".\n",
    "    Returns:\n",
    "        GeoDataFrame: POI locations with POI category appended\n",
    "    \"\"\"    \n",
    "    for key in tags: \n",
    "        if key not in set(gdf_poi.columns): \n",
    "            gdf_poi[key] = [None] * gdf_poi.shape[0]\n",
    "    \n",
    "    poi_category = pd.concat([gdf_poi.set_index(col_poi_id)[key] for key in tags]).dropna()\n",
    "    allowed_values = [v for val in tags.values() for v in val]\n",
    "    poi_category = poi_category[poi_category.isin(allowed_values)]\n",
    "    poi_category = poi_category.groupby(col_poi_id).first()\n",
    "    poi_category.name = \"poi_cat\"\n",
    "    \n",
    "    gdf_poi = gdf_poi.merge(poi_category, how=\"left\", left_on=col_poi_id, right_index=True, validate=\"1:1\")\n",
    "    return gdf_poi\n",
    "\n",
    "\n",
    "def _postprocess_osm_data(gdf_osm: gpd.GeoDataFrame, \n",
    "                          city_osm: str,\n",
    "                          category: str,\n",
    "                          cols_relevant: typing.List[str],\n",
    "                          )  -> gpd.GeoDataFrame: \n",
    "    \"\"\"Postprocess OSM POI locations: appending poi id and poi category, appending lat/lon coordinates, transform POI to \n",
    "    EPSG:25832\n",
    "    \n",
    "    Args:\n",
    "        gdf_osm (GeoDataFrame): POI locations\n",
    "        tags (typing.Dict[str, list]): mapping containing osm key as key and list of osm values as value\n",
    "        cols_relevant (typing.List[str], optional): list of relevant columns. If not specified all columns are returned. Defaults to [\"geometry\", \"id_poi\", \"category\", \"longitude\", \"latitude\", \"city\"].\n",
    "\n",
    "    Returns:\n",
    "        GeoDataFrame: [description]\n",
    "    \"\"\"    \n",
    "    gdf_osm[\"city\"] = city_osm\n",
    "    gdf_osm.reset_index(drop=False, inplace=True)\n",
    "    \n",
    "    gdf_osm[\"osm_id\"] = gdf_osm[\"element_type\"] + \"/\" + gdf_osm[\"osmid\"].astype(str)\n",
    "    gdf_osm.drop(columns=[\"ways\", \"nodes\"], errors=\"ignore\", inplace=True)\n",
    "        \n",
    "    if cols_relevant is None: \n",
    "        cols_relevant = gdf_osm.columns \n",
    "    \n",
    "    repr_point =  gdf_osm.representative_point()\n",
    "    gdf_osm[\"longitude\"] = repr_point.x\n",
    "    gdf_osm[\"latitude\"] = repr_point.y\n",
    "    gdf_osm[\"category\"] = category \n",
    "\n",
    "    gdf_osm.to_crs(\"EPSG:25832\", inplace=True)\n",
    "    \n",
    "    return gdf_osm[cols_relevant]\n",
    "\n",
    "def _get_osm_category(category: str,\n",
    "                      tags: dict, \n",
    "                      city: str, \n",
    "                      cols_relevant=[\"geometry\", \"osm_id\", \"category\", \"longitude\", \"latitude\", \"city\"]\n",
    "                      )  -> gpd.GeoDataFrame: \n",
    "    gdf_osm = ox.geometries_from_place(f\"{city}, Germany\", tags=tags)\n",
    "    gdf_osm = _postprocess_osm_data(gdf_osm, city_osm=city, category=category, cols_relevant=cols_relevant)\n",
    "    \n",
    "    return gdf_osm\n",
    "\n",
    "\n",
    "def retrieve_osm_data(categories: dict, \n",
    "                      dir_save: str = \"./data\",\n",
    "                      city: str = \"Essen\", \n",
    "                      cols_relevant=[\"geometry\", \"osm_id\", \"category\", \"longitude\", \"latitude\", \"city\"]): \n",
    "    for cat, tags in categories.items(): \n",
    "        print(cat)\n",
    "        gdf_osm = _get_osm_category(category=cat, tags=tags, city=city, cols_relevant=cols_relevant)\n",
    "        fullpath_save = os.path.join(dir_save, f\"{cat}.geojson\")\n",
    "        \n",
    "        gdf_osm.to_file(fullpath_save, driver=\"GeoJSON\")"
   ]
  },
  {
   "cell_type": "code",
   "execution_count": null,
   "id": "740c1217-a989-4532-9921-126977cd01e9",
   "metadata": {},
   "outputs": [],
   "source": [
    "CATEGORIES = {\"building\": {\"building\": True}, \n",
    "              \"territories\": {\"boundary\": \"administrative\", \"admin_level\": \"2\"}, \n",
    "              \"landuse\": {\"landuse\": True},\n",
    "              \"highway\": {\"highway\": True},\n",
    "              \"fire_station\": {\"amenity\": [\"fire_station\"]}, \n",
    "              \"waterway\": {\"waterway\": True}, \n",
    "              \"substation\": {\"power\": [\"substation\"]}\n",
    "}"
   ]
  },
  {
   "cell_type": "code",
   "execution_count": null,
   "id": "fec6e100-9a7a-46f4-a791-5ca4bae6c5d4",
   "metadata": {},
   "outputs": [],
   "source": [
    "%%time\n",
    "retrieve_osm_data(categories=CATEGORIES)"
   ]
  },
  {
   "cell_type": "code",
   "execution_count": null,
   "id": "e5d8f4b9-f8c4-43d7-8a1f-26774b3e412c",
   "metadata": {},
   "outputs": [],
   "source": [
    "import configparser \n",
    "import sqlalchemy\n",
    "\n",
    "CONFIG = \"config.cfg\"\n",
    "ENGINE = \"engine\"\n",
    "URL = \"url\"\n",
    "PORT = \"port\"\n",
    "USERNAME = \"db_username\"\n",
    "PASSWORD = \"password\"\n",
    "DBNAME = \"db_name\"\n",
    "DRIVER = \"driver\" \n",
    "FSTR_POSTGIS_CONNECT = f\"{{{ENGINE}}}://{{{USERNAME}}}:{{{PASSWORD}}}@{{{URL}}}:{{{PORT}}}/{{{DBNAME}}}\"\n",
    "config = configparser.ConfigParser()\n",
    "config.read(CONFIG)\n",
    "\n",
    "engine = sqlalchemy.create_engine(FSTR_POSTGIS_CONNECT.format(**config[\"postgis\"]), echo=False)"
   ]
  },
  {
   "cell_type": "code",
   "execution_count": null,
   "id": "26427fdd-5bed-47b7-bc01-3c00bde02651",
   "metadata": {},
   "outputs": [],
   "source": [
    "osm_files = glob.glob(\"./data/territories.geojson\")"
   ]
  },
  {
   "cell_type": "code",
   "execution_count": null,
   "id": "3ac712cb-1513-4738-864b-e86cb238ca84",
   "metadata": {},
   "outputs": [],
   "source": [
    "schema = \"deep_dive\" \n",
    "\n",
    "engine.execute(f\"CREATE SCHEMA IF NOT EXISTS {schema};\")\n",
    "for of in osm_files:\n",
    "    gdf_osm = gpd.read_file(of)\n",
    "    table_name = gdf_osm[\"category\"].iloc[0]\n",
    "    \n",
    "    gdf_osm.to_postgis(con=engine, name=table_name, schema=schema, if_exists=\"replace\")"
   ]
  }
 ],
 "metadata": {
  "kernelspec": {
   "display_name": "Python 3 (ipykernel)",
   "language": "python",
   "name": "python3"
  },
  "language_info": {
   "codemirror_mode": {
    "name": "ipython",
    "version": 3
   },
   "file_extension": ".py",
   "mimetype": "text/x-python",
   "name": "python",
   "nbconvert_exporter": "python",
   "pygments_lexer": "ipython3",
   "version": "3.8.10"
  }
 },
 "nbformat": 4,
 "nbformat_minor": 5
}
