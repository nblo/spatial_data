{
 "cells": [
  {
   "cell_type": "code",
   "execution_count": 2,
   "id": "aa6fd2ba-59c8-494c-ab68-a83203be1619",
   "metadata": {},
   "outputs": [],
   "source": [
    "import pandas as pd \n",
    "import geopandas as gpd"
   ]
  },
  {
   "cell_type": "markdown",
   "id": "ef7fdcfd-c1f3-450f-a4ff-e4ed803e535f",
   "metadata": {
    "tags": []
   },
   "source": [
    "# In 1 hour around the world of spatial data"
   ]
  },
  {
   "cell_type": "markdown",
   "id": "198630c9-ff6b-4ace-9852-b83cca9faea4",
   "metadata": {},
   "source": [
    "What are we going to talk about? \n",
    "- Spatial data 101 \n",
    "- Spatial data wrangling \n",
    "- Use cases \n",
    "\n",
    "What we are not going to talk about? \n",
    "- GIS systems \n",
    "- Spatial data science \n",
    "- Advanced stuff (geocoding, routing) "
   ]
  },
  {
   "cell_type": "markdown",
   "id": "ade783a7-481e-4e12-9f68-7feb7c4180c0",
   "metadata": {
    "tags": []
   },
   "source": [
    "# Introduction: What is spatial data? \n",
    "\n",
    "Data associated with spatial component - objects referencing position on the earth's surface. \n",
    "\n",
    "Spatial data consists of a spatial information (**where**), attributes (**what**) and sometimes temporal information (**when**)."
   ]
  },
  {
   "cell_type": "markdown",
   "id": "46e2f442-ca95-40a5-b778-8dab76366c5b",
   "metadata": {
    "tags": []
   },
   "source": [
    "Examples: \n",
    "- satellite imagery \n",
    "- topography\n",
    "- power lines and substations \n",
    "- exercise tracking (e.g. running, biking)"
   ]
  },
  {
   "cell_type": "markdown",
   "id": "f310ec99-500f-4e04-8115-8c24cf4d32dc",
   "metadata": {
    "tags": []
   },
   "source": [
    "# Types of spatial data\n",
    "\n",
    "Depending on the use case geographic data can be represented in two ways: \n",
    "\n",
    "- raster data (grid)\n",
    " \n",
    "![RasterData](./imgs/raster.PNG)\n",
    "\n",
    "- vector data (point representation) \n",
    "\n",
    "![Vector Data](./imgs/vector.PNG)"
   ]
  },
  {
   "cell_type": "markdown",
   "id": "afd2b4d8-14fa-49d2-9dd4-53b92066b502",
   "metadata": {
    "tags": []
   },
   "source": [
    "## Raster representation"
   ]
  },
  {
   "cell_type": "markdown",
   "id": "9faf9f8c-0bc4-4e8d-a9cd-a56a788d4630",
   "metadata": {},
   "source": [
    "Geographic space is divided into cells. \n",
    "\n",
    "Each cell is geographically located and receives attributes or properties. \n",
    "\n",
    "Often generated from satellite or flyover sensor data.\n",
    "\n",
    "Formats: jpg, png, .tiff\n",
    "\n",
    "![Raster_Example](imgs/raster_example.PNG)\n"
   ]
  },
  {
   "cell_type": "markdown",
   "id": "26d66772-ff97-4a99-84d2-cd4054ab477f",
   "metadata": {},
   "source": [
    "## Vector representation"
   ]
  },
  {
   "cell_type": "markdown",
   "id": "32d70b66-462e-4aaa-b59e-27f3a30a7844",
   "metadata": {},
   "source": [
    "Points with X, Y, (Z) - coordinates which can be connected to more complex geometric types like Polygons or Lines. \n",
    "\n",
    "Examples: Shapefile (.shp), GeoJSON (.geojson), GeoPackage (.gpkg)\n",
    "\n",
    "![Vector Example](imgs/vector_example.png)\n"
   ]
  },
  {
   "cell_type": "code",
   "execution_count": 5,
   "id": "a1d80139-45a8-47c7-a094-34e7faa77fbc",
   "metadata": {},
   "outputs": [
    {
     "data": {
      "text/html": [
       "<div>\n",
       "<style scoped>\n",
       "    .dataframe tbody tr th:only-of-type {\n",
       "        vertical-align: middle;\n",
       "    }\n",
       "\n",
       "    .dataframe tbody tr th {\n",
       "        vertical-align: top;\n",
       "    }\n",
       "\n",
       "    .dataframe thead th {\n",
       "        text-align: right;\n",
       "    }\n",
       "</style>\n",
       "<table border=\"1\" class=\"dataframe\">\n",
       "  <thead>\n",
       "    <tr style=\"text-align: right;\">\n",
       "      <th></th>\n",
       "      <th>osm_id</th>\n",
       "      <th>category</th>\n",
       "      <th>longitude</th>\n",
       "      <th>latitude</th>\n",
       "      <th>city</th>\n",
       "      <th>geometry</th>\n",
       "    </tr>\n",
       "  </thead>\n",
       "  <tbody>\n",
       "    <tr>\n",
       "      <th>386</th>\n",
       "      <td>node/6310881189</td>\n",
       "      <td>substation</td>\n",
       "      <td>7.000345</td>\n",
       "      <td>51.388091</td>\n",
       "      <td>Essen</td>\n",
       "      <td>POINT (360865.054 5694880.986)</td>\n",
       "    </tr>\n",
       "    <tr>\n",
       "      <th>99</th>\n",
       "      <td>node/1251811580</td>\n",
       "      <td>substation</td>\n",
       "      <td>7.083524</td>\n",
       "      <td>51.445307</td>\n",
       "      <td>Essen</td>\n",
       "      <td>POINT (366818.497 5701088.737)</td>\n",
       "    </tr>\n",
       "    <tr>\n",
       "      <th>246</th>\n",
       "      <td>node/3805700299</td>\n",
       "      <td>substation</td>\n",
       "      <td>6.981876</td>\n",
       "      <td>51.456800</td>\n",
       "      <td>Essen</td>\n",
       "      <td>POINT (359790.533 5702556.398)</td>\n",
       "    </tr>\n",
       "    <tr>\n",
       "      <th>442</th>\n",
       "      <td>node/9319154501</td>\n",
       "      <td>substation</td>\n",
       "      <td>7.025626</td>\n",
       "      <td>51.450980</td>\n",
       "      <td>Essen</td>\n",
       "      <td>POINT (362812.337 5701826.395)</td>\n",
       "    </tr>\n",
       "    <tr>\n",
       "      <th>457</th>\n",
       "      <td>way/59925390</td>\n",
       "      <td>substation</td>\n",
       "      <td>6.996070</td>\n",
       "      <td>51.514257</td>\n",
       "      <td>Essen</td>\n",
       "      <td>POLYGON ((360704.497 5708993.154, 361040.214 5...</td>\n",
       "    </tr>\n",
       "    <tr>\n",
       "      <th>424</th>\n",
       "      <td>node/7880732562</td>\n",
       "      <td>substation</td>\n",
       "      <td>7.098473</td>\n",
       "      <td>51.447314</td>\n",
       "      <td>Essen</td>\n",
       "      <td>POINT (367863.063 5701284.848)</td>\n",
       "    </tr>\n",
       "    <tr>\n",
       "      <th>516</th>\n",
       "      <td>way/422075523</td>\n",
       "      <td>substation</td>\n",
       "      <td>7.014370</td>\n",
       "      <td>51.460608</td>\n",
       "      <td>Essen</td>\n",
       "      <td>POLYGON ((362054.324 5702924.205, 362063.536 5...</td>\n",
       "    </tr>\n",
       "    <tr>\n",
       "      <th>83</th>\n",
       "      <td>node/837693800</td>\n",
       "      <td>substation</td>\n",
       "      <td>7.037883</td>\n",
       "      <td>51.454251</td>\n",
       "      <td>Essen</td>\n",
       "      <td>POINT (363673.711 5702167.278)</td>\n",
       "    </tr>\n",
       "    <tr>\n",
       "      <th>389</th>\n",
       "      <td>node/6370454785</td>\n",
       "      <td>substation</td>\n",
       "      <td>7.010086</td>\n",
       "      <td>51.399231</td>\n",
       "      <td>Essen</td>\n",
       "      <td>POINT (361576.340 5696101.372)</td>\n",
       "    </tr>\n",
       "    <tr>\n",
       "      <th>343</th>\n",
       "      <td>node/4902669563</td>\n",
       "      <td>substation</td>\n",
       "      <td>6.949137</td>\n",
       "      <td>51.362595</td>\n",
       "      <td>Essen</td>\n",
       "      <td>POINT (357222.990 5692144.451)</td>\n",
       "    </tr>\n",
       "    <tr>\n",
       "      <th>468</th>\n",
       "      <td>way/106174261</td>\n",
       "      <td>substation</td>\n",
       "      <td>7.098661</td>\n",
       "      <td>51.381140</td>\n",
       "      <td>Essen</td>\n",
       "      <td>POLYGON ((367701.608 5693911.882, 367693.018 5...</td>\n",
       "    </tr>\n",
       "    <tr>\n",
       "      <th>498</th>\n",
       "      <td>way/279101404</td>\n",
       "      <td>substation</td>\n",
       "      <td>7.017126</td>\n",
       "      <td>51.468640</td>\n",
       "      <td>Essen</td>\n",
       "      <td>POLYGON ((362272.743 5703807.642, 362273.135 5...</td>\n",
       "    </tr>\n",
       "    <tr>\n",
       "      <th>413</th>\n",
       "      <td>node/6735813528</td>\n",
       "      <td>substation</td>\n",
       "      <td>7.026464</td>\n",
       "      <td>51.457021</td>\n",
       "      <td>Essen</td>\n",
       "      <td>POINT (362888.699 5702496.603)</td>\n",
       "    </tr>\n",
       "    <tr>\n",
       "      <th>81</th>\n",
       "      <td>node/837693687</td>\n",
       "      <td>substation</td>\n",
       "      <td>7.035501</td>\n",
       "      <td>51.455742</td>\n",
       "      <td>Essen</td>\n",
       "      <td>POINT (363512.646 5702337.512)</td>\n",
       "    </tr>\n",
       "    <tr>\n",
       "      <th>51</th>\n",
       "      <td>node/403374457</td>\n",
       "      <td>substation</td>\n",
       "      <td>7.049992</td>\n",
       "      <td>51.427792</td>\n",
       "      <td>Essen</td>\n",
       "      <td>POINT (364436.602 5699202.601)</td>\n",
       "    </tr>\n",
       "    <tr>\n",
       "      <th>131</th>\n",
       "      <td>node/1477549290</td>\n",
       "      <td>substation</td>\n",
       "      <td>7.007660</td>\n",
       "      <td>51.421967</td>\n",
       "      <td>Essen</td>\n",
       "      <td>POINT (361476.346 5698634.115)</td>\n",
       "    </tr>\n",
       "    <tr>\n",
       "      <th>244</th>\n",
       "      <td>node/3805691598</td>\n",
       "      <td>substation</td>\n",
       "      <td>7.009575</td>\n",
       "      <td>51.460148</td>\n",
       "      <td>Essen</td>\n",
       "      <td>POINT (361724.885 5702876.030)</td>\n",
       "    </tr>\n",
       "    <tr>\n",
       "      <th>245</th>\n",
       "      <td>node/3805700289</td>\n",
       "      <td>substation</td>\n",
       "      <td>6.983603</td>\n",
       "      <td>51.456091</td>\n",
       "      <td>Essen</td>\n",
       "      <td>POINT (359908.329 5702474.321)</td>\n",
       "    </tr>\n",
       "    <tr>\n",
       "      <th>73</th>\n",
       "      <td>node/457359210</td>\n",
       "      <td>substation</td>\n",
       "      <td>6.978090</td>\n",
       "      <td>51.464324</td>\n",
       "      <td>Essen</td>\n",
       "      <td>POINT (359550.635 5703400.312)</td>\n",
       "    </tr>\n",
       "    <tr>\n",
       "      <th>283</th>\n",
       "      <td>node/3961516376</td>\n",
       "      <td>substation</td>\n",
       "      <td>7.012440</td>\n",
       "      <td>51.460704</td>\n",
       "      <td>Essen</td>\n",
       "      <td>POINT (361925.537 5702932.484)</td>\n",
       "    </tr>\n",
       "  </tbody>\n",
       "</table>\n",
       "</div>"
      ],
      "text/plain": [
       "              osm_id    category  longitude   latitude   city  \\\n",
       "386  node/6310881189  substation   7.000345  51.388091  Essen   \n",
       "99   node/1251811580  substation   7.083524  51.445307  Essen   \n",
       "246  node/3805700299  substation   6.981876  51.456800  Essen   \n",
       "442  node/9319154501  substation   7.025626  51.450980  Essen   \n",
       "457     way/59925390  substation   6.996070  51.514257  Essen   \n",
       "424  node/7880732562  substation   7.098473  51.447314  Essen   \n",
       "516    way/422075523  substation   7.014370  51.460608  Essen   \n",
       "83    node/837693800  substation   7.037883  51.454251  Essen   \n",
       "389  node/6370454785  substation   7.010086  51.399231  Essen   \n",
       "343  node/4902669563  substation   6.949137  51.362595  Essen   \n",
       "468    way/106174261  substation   7.098661  51.381140  Essen   \n",
       "498    way/279101404  substation   7.017126  51.468640  Essen   \n",
       "413  node/6735813528  substation   7.026464  51.457021  Essen   \n",
       "81    node/837693687  substation   7.035501  51.455742  Essen   \n",
       "51    node/403374457  substation   7.049992  51.427792  Essen   \n",
       "131  node/1477549290  substation   7.007660  51.421967  Essen   \n",
       "244  node/3805691598  substation   7.009575  51.460148  Essen   \n",
       "245  node/3805700289  substation   6.983603  51.456091  Essen   \n",
       "73    node/457359210  substation   6.978090  51.464324  Essen   \n",
       "283  node/3961516376  substation   7.012440  51.460704  Essen   \n",
       "\n",
       "                                              geometry  \n",
       "386                     POINT (360865.054 5694880.986)  \n",
       "99                      POINT (366818.497 5701088.737)  \n",
       "246                     POINT (359790.533 5702556.398)  \n",
       "442                     POINT (362812.337 5701826.395)  \n",
       "457  POLYGON ((360704.497 5708993.154, 361040.214 5...  \n",
       "424                     POINT (367863.063 5701284.848)  \n",
       "516  POLYGON ((362054.324 5702924.205, 362063.536 5...  \n",
       "83                      POINT (363673.711 5702167.278)  \n",
       "389                     POINT (361576.340 5696101.372)  \n",
       "343                     POINT (357222.990 5692144.451)  \n",
       "468  POLYGON ((367701.608 5693911.882, 367693.018 5...  \n",
       "498  POLYGON ((362272.743 5703807.642, 362273.135 5...  \n",
       "413                     POINT (362888.699 5702496.603)  \n",
       "81                      POINT (363512.646 5702337.512)  \n",
       "51                      POINT (364436.602 5699202.601)  \n",
       "131                     POINT (361476.346 5698634.115)  \n",
       "244                     POINT (361724.885 5702876.030)  \n",
       "245                     POINT (359908.329 5702474.321)  \n",
       "73                      POINT (359550.635 5703400.312)  \n",
       "283                     POINT (361925.537 5702932.484)  "
      ]
     },
     "execution_count": 5,
     "metadata": {},
     "output_type": "execute_result"
    }
   ],
   "source": [
    "gdf_substations = gpd.read_file(\"data/substation.geojson\")\n",
    "gdf_substations.sample(20)"
   ]
  },
  {
   "cell_type": "markdown",
   "id": "c5bd2412-4c3b-4a29-8525-52191ab9f205",
   "metadata": {
    "jp-MarkdownHeadingCollapsed": true,
    "tags": []
   },
   "source": [
    "# Geometric representation\n",
    "\n",
    "- Points, Polygons, LineStrings, (Multi-, GeometryCollections) \n"
   ]
  },
  {
   "cell_type": "markdown",
   "id": "c48a85f5-7ec8-44d5-9d31-feab8728ef8f",
   "metadata": {},
   "source": [
    "# Projections and coordinate reference systems"
   ]
  },
  {
   "cell_type": "markdown",
   "id": "e95f6f52-3839-49e0-8674-a536ae51a58e",
   "metadata": {},
   "source": [
    "Geospatial data is multidimensional (X, Y, *Z* - coordinates)"
   ]
  },
  {
   "cell_type": "markdown",
   "id": "c6be621a-3be1-482d-9571-83254d778cd6",
   "metadata": {},
   "source": [
    "# Spatial data wrangling"
   ]
  },
  {
   "cell_type": "markdown",
   "id": "661a2476-7a3a-49f3-b059-a1792ba62bac",
   "metadata": {},
   "source": [
    "## Geopandas \n",
    "\n",
    "https://geopandas.org/en/stable/docs/user_guide/io.html"
   ]
  },
  {
   "cell_type": "markdown",
   "id": "e3f13197-b48e-417d-993d-9e282bafba53",
   "metadata": {},
   "source": [
    "## PostGiS\n",
    "\n",
    "https://postgis.net/\n",
    "\n",
    "```\n",
    "CREATE EXTENSION postgis;\n",
    "-- enable raster support (for 3+)\n",
    "CREATE EXTENSION postgis_raster;\n",
    "```"
   ]
  },
  {
   "cell_type": "code",
   "execution_count": null,
   "id": "afa858dc-4d1d-4f19-94f5-edbc086bdc0c",
   "metadata": {},
   "outputs": [],
   "source": []
  },
  {
   "cell_type": "markdown",
   "id": "fd1b2e65-474d-4a8a-8c67-beb97f2f64ac",
   "metadata": {
    "jp-MarkdownHeadingCollapsed": true,
    "tags": []
   },
   "source": [
    "## Spatial Relationships"
   ]
  },
  {
   "cell_type": "markdown",
   "id": "419187f3-dfd2-4049-b77e-f5333a845ee7",
   "metadata": {},
   "source": [
    "## Spatial Indices"
   ]
  },
  {
   "cell_type": "markdown",
   "id": "fc9759d5-a59e-400b-8c3f-84b77552ea00",
   "metadata": {},
   "source": [
    "Makes answering questions like \n",
    "- is X **inside of** Y \n",
    "- does X **intersect** Y \n",
    "- is X **near** Y \n",
    "\n",
    "go from 🐌 to 🚀!"
   ]
  },
  {
   "cell_type": "markdown",
   "id": "ba007b7c-9066-497a-a5e0-fec73933fa5d",
   "metadata": {},
   "source": [
    "On a high level spatial indices work by: \n",
    "1. representing objects by **2D-bounding boxes** (4 values regardless of geometry)\n",
    "2. making spatial comparisons between bounding boxes (**cheap!**) \n",
    "3. reserving expensive (but accurate) comparisons between **matched bounding boxes**  \n",
    "\n",
    "![Spatial Index Example](./imgs/spatial_index.png)"
   ]
  },
  {
   "cell_type": "code",
   "execution_count": null,
   "id": "fbc925cc-128b-4bc2-b965-6b2015ce66ca",
   "metadata": {},
   "outputs": [],
   "source": []
  },
  {
   "cell_type": "markdown",
   "id": "1cfc713b-b7ef-47e3-bea6-31b228f637d9",
   "metadata": {
    "tags": []
   },
   "source": [
    "## Spatial Joins and neighbor searches"
   ]
  },
  {
   "cell_type": "markdown",
   "id": "0b4ff96b-4df2-4473-9c29-70ebd3a7113e",
   "metadata": {},
   "source": [
    "Spatial Join is the bread-and-butter of any spatial analysis.\n",
    "\n",
    "Instead of join-keys the "
   ]
  },
  {
   "cell_type": "markdown",
   "id": "f18ff79a-135a-4479-a317-2c1ebf485cf2",
   "metadata": {},
   "source": [
    "Which objects are near other objects? \n",
    "\n",
    "Naive approach: "
   ]
  },
  {
   "cell_type": "markdown",
   "id": "cd509e4d-803f-459a-bd23-4add5fc66bd4",
   "metadata": {},
   "source": [
    "Best-practise: \n",
    "\n",
    "-spatial functions like \n",
    "    - `ST_INTERSECTS`,\n",
    "    - `ST_OVERLAPS`,\n",
    "    - `ST_WITHIN` \n",
    "    - or `ST_DWithin` \n",
    "leverage spatial indices for computation"
   ]
  },
  {
   "cell_type": "markdown",
   "id": "b933a70a-4c86-400f-89f1-ded140503e2d",
   "metadata": {},
   "source": [
    "-  ST_DWithin(geometry g1, geometry g2, double precision distance_of_srid)\n",
    "Simple Example Query: \n",
    "` SELECT id, geometry FROM some_table WHERE ST_DWithin(geometry, 'SRID=3857;POINT(3072163.4 7159374.1)')`"
   ]
  },
  {
   "cell_type": "markdown",
   "id": "b0678822-6fea-4d16-afce-c251b6bd3d70",
   "metadata": {},
   "source": [
    "Neighbor Query between two tables:"
   ]
  },
  {
   "cell_type": "markdown",
   "id": "3b02fb22-2a64-4386-ac05-64b349489ff6",
   "metadata": {},
   "source": [
    "```\n",
    "SELECT\n",
    "    id_loc,\n",
    "    geom_loc, \n",
    "    id_other_loc, \n",
    "    geom_other_loc, \n",
    "    --ST_Distance(geom_loc, geom_other_loc) as distance_m\n",
    "FROM locations\n",
    "CROSS JOIN LATERAL (\n",
    "    SELECT \n",
    "        id_loc, \n",
    "        geom_other_loc\n",
    "    FROM other_locations\n",
    "    WHERE ST_DWithin(geom_loc, geom_other_loc, max_distance)\n",
    ") subq\n",
    "```"
   ]
  },
  {
   "cell_type": "markdown",
   "id": "30d6e7ab-b8e5-40da-aa34-55ddc2940e6b",
   "metadata": {},
   "source": [
    "Spatial Query between with distance filter:"
   ]
  },
  {
   "cell_type": "markdown",
   "id": "9269f6f2-2740-4668-85a1-f33335ff6702",
   "metadata": {},
   "source": [
    "```\n",
    "SELECT\n",
    "    id_loc,\n",
    "    geom_loc, \n",
    "    id_other_loc, \n",
    "    geom_other_loc, \n",
    "    ST_Distance(geom_loc, geom_other_loc) as distance_m\n",
    "FROM locations\n",
    "CROSS JOIN LATERAL (\n",
    "    SELECT \n",
    "        id_loc, \n",
    "        geom_other_loc\n",
    "    FROM other_locations\n",
    "    WHERE ST_DWithin(geom_loc, geom_other_loc, max_distance) --spatial index is used\n",
    ") subq\n",
    "```"
   ]
  },
  {
   "cell_type": "markdown",
   "id": "a934fd12-eca7-4d33-874a-28995e02b496",
   "metadata": {},
   "source": [
    "Spatial Query with limiting the number of neighbors"
   ]
  },
  {
   "cell_type": "markdown",
   "id": "8f9f96e6-bc1a-4740-9995-4623926e48de",
   "metadata": {},
   "source": [
    "```\n",
    "SELECT\n",
    "    id_loc,\n",
    "    geom_loc, \n",
    "    id_other_loc, \n",
    "    geom_other_loc, \n",
    "    ST_Distance(geom_loc, geom_other_loc) as distance_m\n",
    "FROM locations\n",
    "CROSS JOIN LATERAL (\n",
    "    SELECT \n",
    "        id_loc, \n",
    "        geom_other_loc\n",
    "    FROM other_locations\n",
    "    ORDER BY geom_loc <-> geom_other_loc --spatial index is used\n",
    "    LIMIT 1\n",
    ") subq\n",
    "```"
   ]
  },
  {
   "cell_type": "markdown",
   "id": "78c48b00-a639-453c-9c10-3b1f7ee2fc4a",
   "metadata": {},
   "source": [
    "Spatial Query with distance filter and limiting the number of neighbors"
   ]
  },
  {
   "cell_type": "markdown",
   "id": "dd5a9339-974e-4299-8dd9-333a8d788ba4",
   "metadata": {},
   "source": [
    "```\n",
    "SELECT\n",
    "    id_loc,\n",
    "    geom_loc, \n",
    "    id_other_loc, \n",
    "    geom_other_loc, \n",
    "    ST_Distance(geom_loc, geom_other_loc) as distance_m\n",
    "FROM locations\n",
    "CROSS JOIN LATERAL (\n",
    "    SELECT \n",
    "        id_loc, \n",
    "        geom_other_loc\n",
    "    FROM other_locations\n",
    "    WHERE ST_DWithin(geom_loc, geom_other_loc, max_distance) --spatial index is used\n",
    "    ORDER BY geom_loc <-> geom_other_loc --spatial index is used\n",
    "    LIMIT 1\n",
    ") subq\n",
    "```"
   ]
  },
  {
   "cell_type": "markdown",
   "id": "f77a39ba-8f18-457e-86bd-73825a17153b",
   "metadata": {},
   "source": [
    "# Use cases: "
   ]
  },
  {
   "cell_type": "markdown",
   "id": "105ee0fc-5386-4732-b6e2-40fea5a28c91",
   "metadata": {},
   "source": [
    "## Which substations are at risk of flooding? "
   ]
  },
  {
   "cell_type": "markdown",
   "id": "aaf3885c-39ea-46a5-8f12-037ce92b182f",
   "metadata": {},
   "source": [
    "## Which fire department will put the fire out at my house? "
   ]
  },
  {
   "cell_type": "markdown",
   "id": "b194804d-7632-4452-bc94-55bb0a2f1ba8",
   "metadata": {},
   "source": [
    "## Where can I build my house? "
   ]
  },
  {
   "cell_type": "markdown",
   "id": "710509ca-1548-45e7-80d3-a31ad602f07a",
   "metadata": {},
   "source": [
    "# Tableau and Postgis"
   ]
  },
  {
   "cell_type": "code",
   "execution_count": null,
   "id": "ac4c44aa-8f58-45cf-98b6-598350b1080c",
   "metadata": {},
   "outputs": [],
   "source": [
    "- Spatial Clustering \n",
    "- "
   ]
  },
  {
   "cell_type": "markdown",
   "id": "51847a79-d067-4877-aae7-d07f1bfaf0fb",
   "metadata": {
    "jp-MarkdownHeadingCollapsed": true,
    "tags": []
   },
   "source": [
    "# Spatial technology stack (Python)\n",
    "\n",
    "- Data Wrangling: \n",
    "    - geopandas (pandas extension for geometric data)\n",
    "    - pyproj (geographic reference systems) \n",
    "    - rtree (spatial indexing) \n",
    "    - pygeos (spatial indexing)\n",
    "    - shapely (geometry data)\n",
    "    - scipy/scikitlean (neighbor-searches) \n",
    "    - networkx \n",
    "    \n",
    "- Plotting: \n",
    "    - matplotlib (+ descartes) \n",
    "    - folium (Python leaflet wrapper) \n",
    "    - altair (interactive visualizations) \n",
    "    - datashader (plotting extremely large datasets) \n",
    " \n",
    "- Misc: \n",
    "    - osmnx, osmium (OpenStreetMap data)"
   ]
  },
  {
   "cell_type": "markdown",
   "id": "cda8f4fd-f06f-44d5-888d-c8c4628f57dd",
   "metadata": {},
   "source": [
    "# References"
   ]
  },
  {
   "cell_type": "markdown",
   "id": "6a0e1034-94ee-4f5c-9564-9b2400ffae99",
   "metadata": {},
   "source": [
    "- https://github.com/martinchristen/bigdatabbq2021\n",
    "- [PostGis Feature Overview](https://www.youtube.com/watch?v=g4DgAVCmiDE)\n",
    "- [Introduction to Spatial Indexing](https://blog.crunchydata.com/blog/the-many-spatial-indexes-of-postgis)\n",
    "- [PostGiS Day 2021](https://www.youtube.com/playlist?list=PLesw5jpZchudjKjwvFks-gAbz9ZZzysFm)"
   ]
  }
 ],
 "metadata": {
  "kernelspec": {
   "display_name": "Python 3 (ipykernel)",
   "language": "python",
   "name": "python3"
  },
  "language_info": {
   "codemirror_mode": {
    "name": "ipython",
    "version": 3
   },
   "file_extension": ".py",
   "mimetype": "text/x-python",
   "name": "python",
   "nbconvert_exporter": "python",
   "pygments_lexer": "ipython3",
   "version": "3.8.10"
  }
 },
 "nbformat": 4,
 "nbformat_minor": 5
}
